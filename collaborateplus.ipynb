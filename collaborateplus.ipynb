{
 "cells": [
  {
   "cell_type": "code",
   "execution_count": 2,
   "id": "1ffdbf8a-8101-4fb3-9031-ff10e1454d31",
   "metadata": {},
   "outputs": [],
   "source": [
    "import pandas as pd  # Veri işleme\n",
    "import numpy as np  # Sayısal işlemler\n",
    "import matplotlib.pyplot as plt  # Veri görselleştirme\n",
    "import seaborn as sns  # İstatistiksel veri görselleştirme\n",
    "import gc"
   ]
  },
  {
   "cell_type": "code",
   "execution_count": 4,
   "id": "b071cdc5-b90b-4fb5-b808-7b0fdce6134c",
   "metadata": {},
   "outputs": [],
   "source": [
    "games = pd.read_csv('games.csv')\n",
    "recommendations = pd.read_csv('recommendations.csv')\n",
    "users = pd.read_csv('users.csv')"
   ]
  },
  {
   "cell_type": "code",
   "execution_count": 6,
   "id": "64d8c301-d8d0-4978-ada2-8691537962d6",
   "metadata": {},
   "outputs": [
    {
     "name": "stdout",
     "output_type": "stream",
     "text": [
      "games.csv başlıkları: ['app_id', 'title', 'date_release', 'win', 'mac', 'linux', 'rating', 'positive_ratio', 'user_reviews', 'price_final', 'price_original', 'discount', 'steam_deck']\n"
     ]
    }
   ],
   "source": [
    "print(\"games.csv başlıkları:\", list(games.columns))"
   ]
  },
  {
   "cell_type": "code",
   "execution_count": 8,
   "id": "bb15ae1d-75b2-4a14-a325-35a844d36cc6",
   "metadata": {},
   "outputs": [
    {
     "name": "stdout",
     "output_type": "stream",
     "text": [
      "   app_id                              title date_release   win    mac  linux  \\\n",
      "0   13500  Prince of Persia: Warrior Within™   2008-11-21  True  False  False   \n",
      "1   22364            BRINK: Agents of Change   2011-08-03  True  False  False   \n",
      "2  113020       Monaco: What's Yours Is Mine   2013-04-24  True   True   True   \n",
      "3  226560                 Escape Dead Island   2014-11-18  True  False  False   \n",
      "4  249050            Dungeon of the ENDLESS™   2014-10-27  True   True  False   \n",
      "\n",
      "          rating  positive_ratio  user_reviews  price_final  price_original  \\\n",
      "0  Very Positive              84          2199         9.99            9.99   \n",
      "1       Positive              85            21         2.99            2.99   \n",
      "2  Very Positive              92          3722        14.99           14.99   \n",
      "3          Mixed              61           873        14.99           14.99   \n",
      "4  Very Positive              88          8784        11.99           11.99   \n",
      "\n",
      "   discount  steam_deck  \n",
      "0       0.0        True  \n",
      "1       0.0        True  \n",
      "2       0.0        True  \n",
      "3       0.0        True  \n",
      "4       0.0        True  \n"
     ]
    }
   ],
   "source": [
    "print(games.head())"
   ]
  },
  {
   "cell_type": "code",
   "execution_count": 10,
   "id": "58c07d12-3ee5-4f19-af82-e0cf191fef72",
   "metadata": {},
   "outputs": [
    {
     "name": "stdout",
     "output_type": "stream",
     "text": [
      "recommendations.csv başlıkları: ['app_id', 'helpful', 'funny', 'date', 'is_recommended', 'hours', 'user_id', 'review_id']\n"
     ]
    }
   ],
   "source": [
    "print(\"recommendations.csv başlıkları:\", list(recommendations.columns))"
   ]
  },
  {
   "cell_type": "code",
   "execution_count": 12,
   "id": "4ec0f7c1-d7f1-4017-8c17-075b018bcaa8",
   "metadata": {},
   "outputs": [
    {
     "name": "stdout",
     "output_type": "stream",
     "text": [
      "    app_id  helpful  funny        date  is_recommended  hours  user_id  \\\n",
      "0   975370        0      0  2022-12-12            True   36.3    51580   \n",
      "1   304390        4      0  2017-02-17           False   11.5     2586   \n",
      "2  1085660        2      0  2019-11-17            True  336.5   253880   \n",
      "3   703080        0      0  2022-09-23            True   27.4   259432   \n",
      "4   526870        0      0  2021-01-10            True    7.9    23869   \n",
      "\n",
      "   review_id  \n",
      "0          0  \n",
      "1          1  \n",
      "2          2  \n",
      "3          3  \n",
      "4          4  \n"
     ]
    }
   ],
   "source": [
    "print(recommendations.head())"
   ]
  },
  {
   "cell_type": "code",
   "execution_count": 14,
   "id": "c9d14369-2f06-4c61-b3c4-e937fe43cfda",
   "metadata": {},
   "outputs": [
    {
     "name": "stdout",
     "output_type": "stream",
     "text": [
      "users.csv başlıkları: ['user_id', 'products', 'reviews']\n"
     ]
    }
   ],
   "source": [
    "print(\"users.csv başlıkları:\", list(users.columns))"
   ]
  },
  {
   "cell_type": "code",
   "execution_count": 16,
   "id": "a9c67707-a455-44c8-be96-fa3261c4412c",
   "metadata": {},
   "outputs": [
    {
     "name": "stdout",
     "output_type": "stream",
     "text": [
      "    user_id  products  reviews\n",
      "0   7360263       359        0\n",
      "1  14020781       156        1\n",
      "2   8762579       329        4\n",
      "3   4820647       176        4\n",
      "4   5167327        98        2\n"
     ]
    }
   ],
   "source": [
    "print(users.head())"
   ]
  },
  {
   "cell_type": "code",
   "execution_count": 18,
   "id": "24ef3950-ba33-41f5-b9fb-2a33cf8d7354",
   "metadata": {},
   "outputs": [
    {
     "name": "stdout",
     "output_type": "stream",
     "text": [
      "\n",
      "recommendations.csv eksik değerler:\n",
      " app_id            0\n",
      "helpful           0\n",
      "funny             0\n",
      "date              0\n",
      "is_recommended    0\n",
      "hours             0\n",
      "user_id           0\n",
      "review_id         0\n",
      "dtype: int64\n"
     ]
    }
   ],
   "source": [
    "print(\"\\nrecommendations.csv eksik değerler:\\n\", recommendations.isnull().sum())"
   ]
  },
  {
   "cell_type": "code",
   "execution_count": 20,
   "id": "9628a60b-df78-4033-8024-56e9c1664224",
   "metadata": {},
   "outputs": [
    {
     "name": "stdout",
     "output_type": "stream",
     "text": [
      "\n",
      "users.csv eksik değerler:\n",
      " user_id     0\n",
      "products    0\n",
      "reviews     0\n",
      "dtype: int64\n"
     ]
    }
   ],
   "source": [
    "print(\"\\nusers.csv eksik değerler:\\n\", users.isnull().sum())"
   ]
  },
  {
   "cell_type": "code",
   "execution_count": 22,
   "id": "9bd59691-9efa-4bdf-b181-b6850acdf9cc",
   "metadata": {},
   "outputs": [
    {
     "name": "stdout",
     "output_type": "stream",
     "text": [
      "games.csv eksik değerler:\n",
      " app_id            0\n",
      "title             0\n",
      "date_release      0\n",
      "win               0\n",
      "mac               0\n",
      "linux             0\n",
      "rating            0\n",
      "positive_ratio    0\n",
      "user_reviews      0\n",
      "price_final       0\n",
      "price_original    0\n",
      "discount          0\n",
      "steam_deck        0\n",
      "dtype: int64\n"
     ]
    }
   ],
   "source": [
    "print(\"games.csv eksik değerler:\\n\", games.isnull().sum())"
   ]
  },
  {
   "cell_type": "code",
   "execution_count": 24,
   "id": "48bcf6b7-0c14-48ab-84d1-ad17028161be",
   "metadata": {},
   "outputs": [
    {
     "name": "stdout",
     "output_type": "stream",
     "text": [
      "games.csv veri tipleri:\n",
      " app_id              int64\n",
      "title              object\n",
      "date_release       object\n",
      "win                  bool\n",
      "mac                  bool\n",
      "linux                bool\n",
      "rating             object\n",
      "positive_ratio      int64\n",
      "user_reviews        int64\n",
      "price_final       float64\n",
      "price_original    float64\n",
      "discount          float64\n",
      "steam_deck           bool\n",
      "dtype: object\n"
     ]
    }
   ],
   "source": [
    "print(\"games.csv veri tipleri:\\n\", games.dtypes)"
   ]
  },
  {
   "cell_type": "code",
   "execution_count": 26,
   "id": "30ddd5ea-1ea3-477e-ba14-9f9c8eeeaa8b",
   "metadata": {},
   "outputs": [
    {
     "name": "stdout",
     "output_type": "stream",
     "text": [
      "\n",
      "recommendations.csv veri tipleri:\n",
      " app_id              int64\n",
      "helpful             int64\n",
      "funny               int64\n",
      "date               object\n",
      "is_recommended       bool\n",
      "hours             float64\n",
      "user_id             int64\n",
      "review_id           int64\n",
      "dtype: object\n"
     ]
    }
   ],
   "source": [
    "print(\"\\nrecommendations.csv veri tipleri:\\n\", recommendations.dtypes)"
   ]
  },
  {
   "cell_type": "code",
   "execution_count": 28,
   "id": "d9ea267a-aabc-4b66-bd51-69c1f2cfcd70",
   "metadata": {},
   "outputs": [
    {
     "name": "stdout",
     "output_type": "stream",
     "text": [
      "\n",
      "users.csv veri tipleri:\n",
      " user_id     int64\n",
      "products    int64\n",
      "reviews     int64\n",
      "dtype: object\n"
     ]
    }
   ],
   "source": [
    "print(\"\\nusers.csv veri tipleri:\\n\", users.dtypes)"
   ]
  },
  {
   "cell_type": "code",
   "execution_count": 30,
   "id": "c51cced3-786b-44ea-9ff1-2a2c29a112b3",
   "metadata": {},
   "outputs": [
    {
     "name": "stdout",
     "output_type": "stream",
     "text": [
      "Date sütununda hatalı dönüşüm (NaT) sayısı: 0\n"
     ]
    }
   ],
   "source": [
    "# recommendations.csv'deki date sütununu datetime formatına çevir\n",
    "recommendations['date'] = pd.to_datetime(recommendations['date'], errors='coerce')\n",
    "\n",
    "# date sütunundaki hatalı dönüşümleri kontrol et (NaT olanlar)\n",
    "print(\"Date sütununda hatalı dönüşüm (NaT) sayısı:\", recommendations['date'].isnull().sum())"
   ]
  },
  {
   "cell_type": "code",
   "execution_count": 32,
   "id": "2e427def-a488-4f8a-9c98-94531c2f6f13",
   "metadata": {},
   "outputs": [
    {
     "name": "stdout",
     "output_type": "stream",
     "text": [
      "Orijinal recommendations veri setindeki satır sayısı: 41154794\n",
      "Filtrelenmiş recommendations veri setindeki satır sayısı: 33581767\n",
      "Çıkarılan kullanıcı sayısı: 7573027\n"
     ]
    }
   ],
   "source": [
    "# 1 inceleme yazan kullanıcıları belirleme\n",
    "single_review_users = users[users['reviews'] == 1]['user_id']\n",
    "\n",
    "# Bu kullanıcıları recommendations veri setinden çıkarma\n",
    "filtered_recommendations = recommendations[~recommendations['user_id'].isin(single_review_users)]\n",
    "\n",
    "# Sonuçları kontrol etme\n",
    "print(f\"Orijinal recommendations veri setindeki satır sayısı: {len(recommendations)}\")\n",
    "print(f\"Filtrelenmiş recommendations veri setindeki satır sayısı: {len(filtered_recommendations)}\")\n",
    "print(f\"Çıkarılan kullanıcı sayısı: {len(single_review_users)}\")"
   ]
  },
  {
   "cell_type": "code",
   "execution_count": 34,
   "id": "f4125eac-4506-444e-9daf-66ce020a26d9",
   "metadata": {},
   "outputs": [
    {
     "name": "stdout",
     "output_type": "stream",
     "text": [
      "Orijinal filtered_recommendations satır sayısı: 41154794\n",
      "Yeni filtered_recommendations satır sayısı: 26491077\n",
      "Çıkarılan oyun sayısı: 20614\n"
     ]
    }
   ],
   "source": [
    "# 1. games veri setinden kriterlere uygun oyunları tespit et\n",
    "excluded_games = games[\n",
    "    (games['price_original'] > 20) |       # 20 dolardan pahalı oyunlar\n",
    "    (games['positive_ratio'] < 75) |      # positive_ratio 75'ten düşük olan oyunlar\n",
    "    (pd.to_datetime(games['date_release']).dt.year < 2000)  # 2000 yılından önce çıkan oyunlar\n",
    "]\n",
    "\n",
    "# Tespit edilen oyunların app_id'lerini al\n",
    "excluded_app_ids = excluded_games['app_id']\n",
    "\n",
    "# 2. Bu app_id'leri filtered_recommendations veri setinden çıkar\n",
    "filtered_recommendations = filtered_recommendations[\n",
    "    ~filtered_recommendations['app_id'].isin(excluded_app_ids)\n",
    "]\n",
    "\n",
    "# Sonuçları kontrol et\n",
    "print(f\"Orijinal filtered_recommendations satır sayısı: {len(recommendations)}\")\n",
    "print(f\"Yeni filtered_recommendations satır sayısı: {len(filtered_recommendations)}\")\n",
    "print(f\"Çıkarılan oyun sayısı: {len(excluded_app_ids)}\")"
   ]
  },
  {
   "cell_type": "code",
   "execution_count": 36,
   "id": "91915165-0f71-435b-93d4-376047290ac1",
   "metadata": {},
   "outputs": [
    {
     "name": "stdout",
     "output_type": "stream",
     "text": [
      "50'den az inceleme yapılan oyunlar çıkarıldı.\n",
      "Kalan satır sayısı: 26212857\n"
     ]
    }
   ],
   "source": [
    "# games veri setinde user_reviews sütununu kullanarak inceleme sayısı 50'den düşük olan oyunları bul\n",
    "low_review_games = games[games['user_reviews'] < 100]\n",
    "\n",
    "# Bu oyunların app_id'lerini al\n",
    "low_review_app_ids = low_review_games['app_id']\n",
    "\n",
    "# filtered_recommendations veri setinden bu app_id'leri çıkar\n",
    "filtered_recommendations = filtered_recommendations[\n",
    "    ~filtered_recommendations['app_id'].isin(low_review_app_ids)\n",
    "]\n",
    "\n",
    "print(f\"50'den az inceleme yapılan oyunlar çıkarıldı.\")\n",
    "print(f\"Kalan satır sayısı: {len(filtered_recommendations)}\")"
   ]
  },
  {
   "cell_type": "code",
   "execution_count": 38,
   "id": "bac9254c-f68b-4ce8-ac3c-60a0912b48c9",
   "metadata": {},
   "outputs": [
    {
     "name": "stdout",
     "output_type": "stream",
     "text": [
      "2 inceleme yapmış kullanıcılar çıkarıldı.\n",
      "Kalan satır sayısı: 22296064\n"
     ]
    }
   ],
   "source": [
    "# users veri setinden 2 inceleme yapmış kullanıcıları bul\n",
    "two_review_users = users[users['reviews'] == 2]\n",
    "\n",
    "# Bu kullanıcıların user_id'lerini al\n",
    "two_review_user_ids = two_review_users['user_id']\n",
    "\n",
    "# filtered_recommendations veri setinden bu user_id'leri çıkar\n",
    "filtered_recommendations = filtered_recommendations[\n",
    "    ~filtered_recommendations['user_id'].isin(two_review_user_ids)\n",
    "]\n",
    "\n",
    "print(f\"2 inceleme yapmış kullanıcılar çıkarıldı.\")\n",
    "print(f\"Kalan satır sayısı: {len(filtered_recommendations)}\")"
   ]
  },
  {
   "cell_type": "code",
   "execution_count": 40,
   "id": "b7da5638-e111-4e88-8dda-dbf04ecb40f0",
   "metadata": {},
   "outputs": [
    {
     "name": "stdout",
     "output_type": "stream",
     "text": [
      "3 dolardan ucuz oyunlar çıkarıldı.\n",
      "Kalan satır sayısı: 7356932\n"
     ]
    }
   ],
   "source": [
    "# games veri setinde price_original sütununu kullanarak 3 dolardan ucuz oyunları bul\n",
    "cheap_games = games[games['price_original'] < 3]\n",
    "\n",
    "# Bu oyunların app_id'lerini al\n",
    "cheap_game_app_ids = cheap_games['app_id']\n",
    "\n",
    "# filtered_recommendations veri setinden bu app_id'leri çıkar\n",
    "filtered_recommendations = filtered_recommendations[\n",
    "    ~filtered_recommendations['app_id'].isin(cheap_game_app_ids)\n",
    "]\n",
    "\n",
    "# Sonuçları kontrol et\n",
    "print(f\"3 dolardan ucuz oyunlar çıkarıldı.\")\n",
    "print(f\"Kalan satır sayısı: {len(filtered_recommendations)}\")"
   ]
  },
  {
   "cell_type": "code",
   "execution_count": 42,
   "id": "b6df7e9d-5f16-410f-8eef-e995645975ea",
   "metadata": {},
   "outputs": [
    {
     "name": "stdout",
     "output_type": "stream",
     "text": [
      "Temizlenmiş Games Veri Seti Boyutu: (6228, 13)\n",
      "Temizlenmiş Users Veri Seti Boyutu: (2368365, 3)\n"
     ]
    }
   ],
   "source": [
    "# 1. Recommendations'da kalan kullanıcı ve oyun ID'lerini al\n",
    "valid_user_ids = filtered_recommendations['user_id'].unique()\n",
    "valid_game_ids = filtered_recommendations['app_id'].unique()\n",
    "\n",
    "# 2. Games veri setini temizle (sadece valid_game_ids'deki oyunlar kalsın)\n",
    "cleaned_games = games[games['app_id'].isin(valid_game_ids)]\n",
    "print(f\"Temizlenmiş Games Veri Seti Boyutu: {cleaned_games.shape}\")\n",
    "\n",
    "# 3. Users veri setini temizle (sadece valid_user_ids'deki kullanıcılar kalsın)\n",
    "cleaned_users = users[users['user_id'].isin(valid_user_ids)]\n",
    "print(f\"Temizlenmiş Users Veri Seti Boyutu: {cleaned_users.shape}\")"
   ]
  },
  {
   "cell_type": "code",
   "execution_count": 44,
   "id": "3245a049-3792-4426-a81d-94705214d847",
   "metadata": {},
   "outputs": [
    {
     "name": "stdout",
     "output_type": "stream",
     "text": [
      "Birleştirilmiş Veri Seti Boyutu: (7356932, 22)\n",
      "    app_id  helpful  funny       date  is_recommended  hours   user_id  \\\n",
      "0  1766740        0      0 2022-12-18            True   12.7   6766810   \n",
      "1  1766740        7      0 2022-12-26           False    2.8   7984323   \n",
      "2  1766740        0      0 2022-12-13           False    3.7  13376299   \n",
      "3  1766740        0      0 2022-12-10            True    2.9   5668417   \n",
      "4  1766740        0      0 2022-12-09            True    3.1   5737183   \n",
      "\n",
      "   review_id  products  reviews  ...   win    mac  linux         rating  \\\n",
      "0       2090       199       25  ...  True  False  False  Very Positive   \n",
      "1       4283       181        7  ...  True  False  False  Very Positive   \n",
      "2       6864        23        4  ...  True  False  False  Very Positive   \n",
      "3       8615        58        5  ...  True  False  False  Very Positive   \n",
      "4       8803       642        9  ...  True  False  False  Very Positive   \n",
      "\n",
      "   positive_ratio user_reviews  price_final  price_original  discount  \\\n",
      "0              92        10400        19.99           19.99       0.0   \n",
      "1              92        10400        19.99           19.99       0.0   \n",
      "2              92        10400        19.99           19.99       0.0   \n",
      "3              92        10400        19.99           19.99       0.0   \n",
      "4              92        10400        19.99           19.99       0.0   \n",
      "\n",
      "   steam_deck  \n",
      "0        True  \n",
      "1        True  \n",
      "2        True  \n",
      "3        True  \n",
      "4        True  \n",
      "\n",
      "[5 rows x 22 columns]\n"
     ]
    }
   ],
   "source": [
    "# 1. Recommendations ve Users'ı user_id üzerinden birleştir\n",
    "merged_users_recommendations = pd.merge(\n",
    "    filtered_recommendations,\n",
    "    cleaned_users,\n",
    "    on='user_id',\n",
    "    how='inner'\n",
    ")\n",
    "\n",
    "# 2. Yukarıdaki veri setini Games ile app_id üzerinden birleştir\n",
    "merged_dataset = pd.merge(\n",
    "    merged_users_recommendations,\n",
    "    cleaned_games,\n",
    "    on='app_id',\n",
    "    how='inner'\n",
    ")\n",
    "\n",
    "# 3. Birleştirilmiş veri setinin boyutunu ve örnek bir kısmını görüntüle\n",
    "print(f\"Birleştirilmiş Veri Seti Boyutu: {merged_dataset.shape}\")\n",
    "print(merged_dataset.head())"
   ]
  },
  {
   "cell_type": "code",
   "execution_count": 46,
   "id": "71590eb5-bfd5-4f62-bf04-ec6cb4855705",
   "metadata": {},
   "outputs": [
    {
     "name": "stdout",
     "output_type": "stream",
     "text": [
      "Güncel Veri Seti Boyutu: (7356932, 14)\n",
      "Kalan Sütunlar: ['app_id', 'date', 'is_recommended', 'hours', 'user_id', 'review_id', 'products', 'reviews', 'title', 'date_release', 'rating', 'positive_ratio', 'user_reviews', 'price_original']\n"
     ]
    }
   ],
   "source": [
    "# Gereksiz sütunları kaldır\n",
    "columns_to_drop = ['funny', 'helpful', 'win', 'mac', 'linux', 'price_final', 'discount', 'steam_deck']\n",
    "merged_dataset = merged_dataset.drop(columns=columns_to_drop, axis=1)\n",
    "\n",
    "# Güncel veri setinin boyutunu ve sütunlarını kontrol edin\n",
    "print(f\"Güncel Veri Seti Boyutu: {merged_dataset.shape}\")\n",
    "print(f\"Kalan Sütunlar: {list(merged_dataset.columns)}\")"
   ]
  },
  {
   "cell_type": "code",
   "execution_count": 48,
   "id": "c0d74d21-8481-4b07-8882-944dbbf4a0f6",
   "metadata": {},
   "outputs": [
    {
     "name": "stdout",
     "output_type": "stream",
     "text": [
      "Eksik Veriler:\n",
      "Series([], dtype: int64)\n"
     ]
    }
   ],
   "source": [
    "# Eksik veri kontrolü\n",
    "missing_data = merged_dataset.isnull().sum()\n",
    "\n",
    "# Eksik veri içeren sütunları yazdır\n",
    "print(\"Eksik Veriler:\")\n",
    "print(missing_data[missing_data > 0])"
   ]
  },
  {
   "cell_type": "code",
   "execution_count": 50,
   "id": "2eba6031-6365-4cc3-b65d-1047aa415084",
   "metadata": {},
   "outputs": [],
   "source": [
    "# merged_dataset'i kopyala\n",
    "merged_dataset_copy = merged_dataset.copy()"
   ]
  },
  {
   "cell_type": "code",
   "execution_count": 52,
   "id": "ea7a4edd-6d42-4ca7-b8d5-51d4e269b51e",
   "metadata": {},
   "outputs": [],
   "source": [
    "# Veri türlerini optimize et\n",
    "merged_dataset_copy['user_id'] = merged_dataset_copy['user_id'].astype('int32')\n",
    "merged_dataset_copy['app_id'] = merged_dataset_copy['app_id'].astype('int32')\n",
    "merged_dataset_copy['hours'] = merged_dataset_copy['hours'].astype('float32')"
   ]
  },
  {
   "cell_type": "code",
   "execution_count": 54,
   "id": "d021db07-386e-4430-94cd-35cf8b3b8f20",
   "metadata": {},
   "outputs": [],
   "source": [
    "# En aktif kullanıcıları ve en çok oynanan oyunları seç\n",
    "top_users = merged_dataset_copy['user_id'].value_counts().nlargest(100000).index\n",
    "top_games = merged_dataset_copy['app_id'].value_counts().nlargest(1000).index\n",
    "\n",
    "# Veri setini filtrele\n",
    "reduced_dataset = merged_dataset_copy[\n",
    "    (merged_dataset_copy['user_id'].isin(top_users)) &\n",
    "    (merged_dataset_copy['app_id'].isin(top_games))\n",
    "]\n",
    "\n",
    "# Pivot işlemini uygula\n",
    "user_game_matrix = reduced_dataset.pivot_table(\n",
    "    index='user_id',\n",
    "    columns='app_id',\n",
    "    values='hours',\n",
    "    aggfunc='sum'\n",
    ").fillna(0)"
   ]
  },
  {
   "cell_type": "code",
   "execution_count": 58,
   "id": "e1ff30a3-c4ba-4d88-9fec-dd9957006987",
   "metadata": {},
   "outputs": [
    {
     "name": "stdout",
     "output_type": "stream",
     "text": [
      "User ID: 8947881\n",
      "Önerilen Oyunlar:\n",
      "                                           title date_release  \\\n",
      "6009   Fallout: A Post Nuclear Role Playing Game   2015-11-01   \n",
      "16195                              Devil Daggers   2016-02-18   \n",
      "47518                              Hotline Miami   2012-10-23   \n",
      "47592                                   Broforce   2015-10-15   \n",
      "47869                                       DUSK   2018-12-10   \n",
      "\n",
      "                        rating  positive_ratio  price_original  \n",
      "6009             Very Positive              94            9.99  \n",
      "16195  Overwhelmingly Positive              96            9.99  \n",
      "47518  Overwhelmingly Positive              97            9.99  \n",
      "47592  Overwhelmingly Positive              97           14.99  \n",
      "47869  Overwhelmingly Positive              97           19.99  \n",
      "\n",
      "\n",
      "User ID: 11865457\n",
      "Önerilen Oyunlar:\n",
      "                         title date_release                   rating  \\\n",
      "4071              Moon Hunters   2016-03-10            Very Positive   \n",
      "12698  Scribblenauts Unlimited   2012-11-19            Very Positive   \n",
      "15554                   VVVVVV   2010-09-07  Overwhelmingly Positive   \n",
      "18747           Little Inferno   2012-11-19  Overwhelmingly Positive   \n",
      "47518            Hotline Miami   2012-10-23  Overwhelmingly Positive   \n",
      "\n",
      "       positive_ratio  price_original  \n",
      "4071               80           14.99  \n",
      "12698              93           19.99  \n",
      "15554              96            4.99  \n",
      "18747              95           14.99  \n",
      "47518              97            9.99  \n",
      "\n",
      "\n",
      "User ID: 6471814\n",
      "Önerilen Oyunlar:\n",
      "                      title date_release                   rating  \\\n",
      "10192           To the Moon   2012-09-07  Overwhelmingly Positive   \n",
      "15475            Transistor   2014-05-20            Very Positive   \n",
      "18469                 Braid   2009-04-10            Very Positive   \n",
      "47484  The Binding of Isaac   2011-09-28  Overwhelmingly Positive   \n",
      "47498            Dishonored   2012-10-08  Overwhelmingly Positive   \n",
      "\n",
      "       positive_ratio  price_original  \n",
      "10192              96            9.99  \n",
      "15475              94           19.99  \n",
      "18469              93           14.99  \n",
      "47484              95            4.99  \n",
      "47498              97            9.99  \n",
      "\n",
      "\n",
      "User ID: 800128\n",
      "Önerilen Oyunlar:\n",
      "                                                   title date_release  \\\n",
      "19689         Deus Ex: Human Revolution - Director's Cut   2013-10-25   \n",
      "47395  Warhammer® 40000: Dawn of War® - Game of the Y...   2014-05-14   \n",
      "47397                      STAR WARS™ Republic Commando™   2009-07-08   \n",
      "47472                              Saints Row: The Third   2011-11-14   \n",
      "47638                                        Bloons TD 5   2014-11-19   \n",
      "\n",
      "                        rating  positive_ratio  price_original  \n",
      "19689            Very Positive              92           19.99  \n",
      "47395  Overwhelmingly Positive              95           12.99  \n",
      "47397  Overwhelmingly Positive              95            9.99  \n",
      "47472  Overwhelmingly Positive              95            9.99  \n",
      "47638            Very Positive              94            9.99  \n",
      "\n",
      "\n",
      "User ID: 12210608\n",
      "Önerilen Oyunlar:\n",
      "                                   title date_release  \\\n",
      "1894   Life is Strange: Before the Storm   2017-08-31   \n",
      "15911                   Sakura Swim Club   2015-09-11   \n",
      "19049     Recettear: An Item Shop's Tale   2010-09-10   \n",
      "19809                      Sakura Spirit   2014-07-09   \n",
      "47510             FTL: Faster Than Light   2012-09-14   \n",
      "\n",
      "                        rating  positive_ratio  price_original  \n",
      "1894             Very Positive              93           16.99  \n",
      "15911            Very Positive              86            9.99  \n",
      "19049  Overwhelmingly Positive              96           19.99  \n",
      "19809          Mostly Positive              77            9.99  \n",
      "47510  Overwhelmingly Positive              95            9.99  \n",
      "\n",
      "\n",
      "Model Performansı:\n",
      "Mean Absolute Error (MAE): 31.5477\n",
      "Model Accuracy (%10 threshold): 2.56%\n"
     ]
    }
   ],
   "source": [
    "from sklearn.metrics.pairwise import cosine_similarity\n",
    "from sklearn.metrics import mean_absolute_error\n",
    "import random\n",
    "\n",
    "# Kullanıcılar arası benzerlik matrisi\n",
    "user_similarity = cosine_similarity(user_game_matrix)\n",
    "user_similarity_df = pd.DataFrame(user_similarity, index=user_game_matrix.index, columns=user_game_matrix.index)\n",
    "\n",
    "# Gerçek ve tahmin edilen oynanma sürelerini saklamak için listeler\n",
    "actual_hours = []\n",
    "predicted_hours = []\n",
    "\n",
    "# Rastgele kullanıcı seçimi\n",
    "random_users = random.sample(list(user_game_matrix.index), 5)  # Öneri ve tahmin için 5 kullanıcı seçiyoruz\n",
    "\n",
    "for user in random_users:\n",
    "    print(f\"User ID: {user}\")\n",
    "\n",
    "    # Kullanıcının oynadığı oyunlar\n",
    "    played_games = user_game_matrix.loc[user][user_game_matrix.loc[user] > 0]\n",
    "    played_games_list = played_games.index.tolist()\n",
    "\n",
    "    # Benzer kullanıcıların oynadığı oyunları bul\n",
    "    similar_users = user_similarity_df[user].sort_values(ascending=False).index[1:6]\n",
    "    recommended_games = []\n",
    "\n",
    "    for similar_user in similar_users:\n",
    "        similar_user_games = user_game_matrix.loc[similar_user][user_game_matrix.loc[similar_user] > 0].index.tolist()\n",
    "        for game in similar_user_games:\n",
    "            if game not in played_games_list and game not in recommended_games:\n",
    "                recommended_games.append(game)\n",
    "                if len(recommended_games) == 5:\n",
    "                    break\n",
    "        if len(recommended_games) == 5:\n",
    "            break\n",
    "\n",
    "    # Önerilen oyunların bilgilerini görüntüle\n",
    "    recommendations = cleaned_games[cleaned_games['app_id'].isin(recommended_games)][\n",
    "        ['title', 'date_release', 'rating', 'positive_ratio', 'price_original']\n",
    "    ]\n",
    "    print(\"Önerilen Oyunlar:\")\n",
    "    print(recommendations)\n",
    "    print(\"\\n\")\n",
    "\n",
    "    # MAE ve Accuracy için tahmin hesapla\n",
    "    for game, hours in played_games.items():\n",
    "        # Benzer kullanıcıların aynı oyunu oynama sürelerini al\n",
    "        similar_users_hours = [\n",
    "            user_game_matrix.loc[similar_user, game]\n",
    "            for similar_user in similar_users\n",
    "            if game in user_game_matrix.columns and user_game_matrix.loc[similar_user, game] > 0\n",
    "        ]\n",
    "        # Tahmin edilen süre\n",
    "        predicted = sum(similar_users_hours) / len(similar_users_hours) if similar_users_hours else 0\n",
    "\n",
    "        # Gerçek ve tahmin edilen süreleri sakla\n",
    "        actual_hours.append(hours)\n",
    "        predicted_hours.append(predicted)\n",
    "\n",
    "# MAE Hesaplama\n",
    "mae = mean_absolute_error(actual_hours, predicted_hours)\n",
    "\n",
    "# Accuracy Hesaplama (%10 threshold)\n",
    "threshold = 0.1\n",
    "correct_predictions = sum(abs(a - p) / a <= threshold for a, p in zip(actual_hours, predicted_hours))\n",
    "accuracy = correct_predictions / len(actual_hours)\n",
    "\n",
    "print(\"Model Performansı:\")\n",
    "print(f\"Mean Absolute Error (MAE): {mae:.4f}\")\n",
    "print(f\"Model Accuracy (%10 threshold): {accuracy:.2%}\")"
   ]
  },
  {
   "cell_type": "code",
   "execution_count": 60,
   "id": "5f2e2195-5738-40eb-8148-6bfbf211f5e7",
   "metadata": {},
   "outputs": [
    {
     "data": {
      "image/png": "[encoded data removed]",
      "text/plain": [
       "<Figure size 1000x600 with 1 Axes>"
      ]
     },
     "metadata": {},
     "output_type": "display_data"
    }
   ],
   "source": [
    "# Önerilen oyunların özelliklerini birleştir\n",
    "recommended_game_ids = [game for user in random_users for game in user_game_matrix.loc[user].index if user_game_matrix.loc[user][game] > 0]\n",
    "recommended_games = cleaned_games[cleaned_games['app_id'].isin(recommended_game_ids)]\n",
    "\n",
    "# Oyun popülerlik dağılımı\n",
    "plt.figure(figsize=(10, 6))\n",
    "sns.histplot(recommended_games['user_reviews'], bins=30, kde=True)\n",
    "plt.title('Önerilen Oyunların Popülerlik Dağılımı (Kullanıcı İncelemelerine Göre)')\n",
    "plt.xlabel('İnceleme Sayısı')\n",
    "plt.ylabel('Frekans')\n",
    "plt.show()"
   ]
  },
  {
   "cell_type": "code",
   "execution_count": 62,
   "id": "b9159f60-aba7-4ddb-a924-67776789c8d5",
   "metadata": {},
   "outputs": [
    {
     "data": {
      "image/png": "[encoded data removed]",
      "text/plain": [
       "<Figure size 1000x600 with 1 Axes>"
      ]
     },
     "metadata": {},
     "output_type": "display_data"
    }
   ],
   "source": [
    "# Önerilen oyunların değerlendirme dağılımı\n",
    "plt.figure(figsize=(10, 6))\n",
    "sns.countplot(data=recommended_games, x='rating', order=recommended_games['rating'].value_counts().index)\n",
    "plt.title('Önerilen Oyunların Değerlendirme (Rating) Dağılımı')\n",
    "plt.xlabel('Değerlendirme')\n",
    "plt.ylabel('Frekans')\n",
    "plt.xticks(rotation=45)\n",
    "plt.show()"
   ]
  },
  {
   "cell_type": "code",
   "execution_count": 64,
   "id": "06bcbed9-d854-4aff-9763-15ec65dbdb68",
   "metadata": {},
   "outputs": [
    {
     "data": {
      "image/png": "[encoded data removed]",
      "text/plain": [
       "<Figure size 1000x600 with 1 Axes>"
      ]
     },
     "metadata": {},
     "output_type": "display_data"
    }
   ],
   "source": [
    "# Önerilen oyunların fiyat dağılımı\n",
    "plt.figure(figsize=(10, 6))\n",
    "sns.histplot(recommended_games['price_original'], bins=30, kde=True)\n",
    "plt.title('Önerilen Oyunların Fiyat Dağılımı')\n",
    "plt.xlabel('Fiyat (USD)')\n",
    "plt.ylabel('Frekans')\n",
    "plt.show()"
   ]
  },
  {
   "cell_type": "code",
   "execution_count": null,
   "id": "61bddc31-e52c-4397-b529-b9c34572975a",
   "metadata": {},
   "outputs": [],
   "source": []
  }
 ],
 "metadata": {
  "kernelspec": {
   "display_name": "Python 3 (ipykernel)",
   "language": "python",
   "name": "python3"
  },
  "language_info": {
   "codemirror_mode": {
    "name": "ipython",
    "version": 3
   },
   "file_extension": ".py",
   "mimetype": "text/x-python",
   "name": "python",
   "nbconvert_exporter": "python",
   "pygments_lexer": "ipython3",
   "version": "3.12.7"
  }
 },
 "nbformat": 4,
 "nbformat_minor": 5
}
