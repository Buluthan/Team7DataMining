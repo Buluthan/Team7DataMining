{
 "cells": [
  {
   "cell_type": "code",
   "execution_count": 2,
   "id": "e932a594-4490-48dd-a80e-543d1e3921c5",
   "metadata": {},
   "outputs": [],
   "source": [
    "import pandas as pd  # Veri işleme\n",
    "import numpy as np  # Sayısal işlemler\n",
    "import matplotlib.pyplot as plt  # Veri görselleştirme\n",
    "import seaborn as sns  # İstatistiksel veri görselleştirme\n",
    "import gc"
   ]
  },
  {
   "cell_type": "code",
   "execution_count": 3,
   "id": "c7a6a4b4-ee5f-4d27-aaf0-dd9bafbb7ea4",
   "metadata": {},
   "outputs": [],
   "source": [
    "games = pd.read_csv('games.csv')\n",
    "recommendations = pd.read_csv('recommendations.csv')\n",
    "users = pd.read_csv('users.csv')"
   ]
  },
  {
   "cell_type": "code",
   "execution_count": 4,
   "id": "09f54cfe-f2c9-42f2-ad06-3f2e6a9d7138",
   "metadata": {},
   "outputs": [
    {
     "name": "stdout",
     "output_type": "stream",
     "text": [
      "games.csv başlıkları: ['app_id', 'title', 'date_release', 'win', 'mac', 'linux', 'rating', 'positive_ratio', 'user_reviews', 'price_final', 'price_original', 'discount', 'steam_deck']\n"
     ]
    }
   ],
   "source": [
    "print(\"games.csv başlıkları:\", list(games.columns))"
   ]
  },
  {
   "cell_type": "code",
   "execution_count": 5,
   "id": "31842001-fe81-4244-af27-9ec8ea38ee0a",
   "metadata": {},
   "outputs": [
    {
     "name": "stdout",
     "output_type": "stream",
     "text": [
      "recommendations.csv başlıkları: ['app_id', 'helpful', 'funny', 'date', 'is_recommended', 'hours', 'user_id', 'review_id']\n"
     ]
    }
   ],
   "source": [
    "print(\"recommendations.csv başlıkları:\", list(recommendations.columns))"
   ]
  },
  {
   "cell_type": "code",
   "execution_count": 6,
   "id": "3c5baed0-6634-4e34-90c7-05af8cdd1429",
   "metadata": {},
   "outputs": [
    {
     "name": "stdout",
     "output_type": "stream",
     "text": [
      "users.csv başlıkları: ['user_id', 'products', 'reviews']\n"
     ]
    }
   ],
   "source": [
    "print(\"users.csv başlıkları:\", list(users.columns))"
   ]
  },
  {
   "cell_type": "code",
   "execution_count": 7,
   "id": "14df48cc-eafb-4fbd-808c-fd9fa9a021d2",
   "metadata": {},
   "outputs": [
    {
     "name": "stdout",
     "output_type": "stream",
     "text": [
      "games.csv veri tipleri:\n",
      " app_id              int64\n",
      "title              object\n",
      "date_release       object\n",
      "win                  bool\n",
      "mac                  bool\n",
      "linux                bool\n",
      "rating             object\n",
      "positive_ratio      int64\n",
      "user_reviews        int64\n",
      "price_final       float64\n",
      "price_original    float64\n",
      "discount          float64\n",
      "steam_deck           bool\n",
      "dtype: object\n"
     ]
    }
   ],
   "source": [
    "print(\"games.csv veri tipleri:\\n\", games.dtypes)"
   ]
  },
  {
   "cell_type": "code",
   "execution_count": 8,
   "id": "5568be9a-a245-48b7-bca3-6b198a173904",
   "metadata": {},
   "outputs": [
    {
     "name": "stdout",
     "output_type": "stream",
     "text": [
      "\n",
      "recommendations.csv veri tipleri:\n",
      " app_id              int64\n",
      "helpful             int64\n",
      "funny               int64\n",
      "date               object\n",
      "is_recommended       bool\n",
      "hours             float64\n",
      "user_id             int64\n",
      "review_id           int64\n",
      "dtype: object\n"
     ]
    }
   ],
   "source": [
    "print(\"\\nrecommendations.csv veri tipleri:\\n\", recommendations.dtypes)"
   ]
  },
  {
   "cell_type": "code",
   "execution_count": 9,
   "id": "83f9dfb3-ab08-49a7-af6d-11f3e1873764",
   "metadata": {},
   "outputs": [
    {
     "name": "stdout",
     "output_type": "stream",
     "text": [
      "\n",
      "users.csv veri tipleri:\n",
      " user_id     int64\n",
      "products    int64\n",
      "reviews     int64\n",
      "dtype: object\n"
     ]
    }
   ],
   "source": [
    "print(\"\\nusers.csv veri tipleri:\\n\", users.dtypes)"
   ]
  },
  {
   "cell_type": "code",
   "execution_count": 10,
   "id": "65ca061d-c9c6-406f-8973-96558660dd7b",
   "metadata": {},
   "outputs": [],
   "source": [
    "# recommendations.csv'deki date sütununu datetime formatına çevir\n",
    "recommendations['date'] = pd.to_datetime(recommendations['date'], errors='coerce')"
   ]
  },
  {
   "cell_type": "code",
   "execution_count": 11,
   "id": "99bd8b31-8411-4c6b-a52b-98ce48c8532d",
   "metadata": {},
   "outputs": [
    {
     "name": "stdout",
     "output_type": "stream",
     "text": [
      "Date sütununda hatalı dönüşüm (NaT) sayısı: 0\n"
     ]
    }
   ],
   "source": [
    "# date sütunundaki hatalı dönüşümleri kontrol et (NaT olanlar)\n",
    "print(\"Date sütununda hatalı dönüşüm (NaT) sayısı:\", recommendations['date'].isnull().sum())"
   ]
  },
  {
   "cell_type": "code",
   "execution_count": 12,
   "id": "e46c4df2-0873-4852-9ccc-ca93274258a3",
   "metadata": {},
   "outputs": [
    {
     "name": "stdout",
     "output_type": "stream",
     "text": [
      "Orijinal recommendations veri setindeki satır sayısı: 41154794\n",
      "Filtrelenmiş recommendations veri setindeki satır sayısı: 33581767\n",
      "Çıkarılan kullanıcı sayısı: 7573027\n"
     ]
    }
   ],
   "source": [
    "# 1 inceleme yazan kullanıcıları belirleme\n",
    "single_review_users = users[users['reviews'] == 1]['user_id']\n",
    "\n",
    "# Bu kullanıcıları recommendations veri setinden çıkarma\n",
    "filtered_recommendations = recommendations[~recommendations['user_id'].isin(single_review_users)]\n",
    "\n",
    "# Sonuçları kontrol etme\n",
    "print(f\"Orijinal recommendations veri setindeki satır sayısı: {len(recommendations)}\")\n",
    "print(f\"Filtrelenmiş recommendations veri setindeki satır sayısı: {len(filtered_recommendations)}\")\n",
    "print(f\"Çıkarılan kullanıcı sayısı: {len(single_review_users)}\")"
   ]
  },
  {
   "cell_type": "code",
   "execution_count": 13,
   "id": "6fd35e7c-9f46-491d-a1fe-5281ee05deb1",
   "metadata": {},
   "outputs": [
    {
     "name": "stdout",
     "output_type": "stream",
     "text": [
      "Orijinal filtered_recommendations satır sayısı: 41154794\n",
      "Yeni filtered_recommendations satır sayısı: 26491077\n",
      "Çıkarılan oyun sayısı: 20614\n"
     ]
    }
   ],
   "source": [
    "# 1. games veri setinden kriterlere uygun oyunları tespit et\n",
    "excluded_games = games[\n",
    "    (games['price_original'] > 20) |       # 20 dolardan pahalı oyunlar\n",
    "    (games['positive_ratio'] < 75) |      # positive_ratio 75'ten düşük olan oyunlar\n",
    "    (pd.to_datetime(games['date_release']).dt.year < 2000)  # 2000 yılından önce çıkan oyunlar\n",
    "]\n",
    "\n",
    "# Tespit edilen oyunların app_id'lerini al\n",
    "excluded_app_ids = excluded_games['app_id']\n",
    "\n",
    "# 2. Bu app_id'leri filtered_recommendations veri setinden çıkar\n",
    "filtered_recommendations = filtered_recommendations[\n",
    "    ~filtered_recommendations['app_id'].isin(excluded_app_ids)\n",
    "]\n",
    "\n",
    "# Sonuçları kontrol et\n",
    "print(f\"Orijinal filtered_recommendations satır sayısı: {len(recommendations)}\")\n",
    "print(f\"Yeni filtered_recommendations satır sayısı: {len(filtered_recommendations)}\")\n",
    "print(f\"Çıkarılan oyun sayısı: {len(excluded_app_ids)}\")"
   ]
  },
  {
   "cell_type": "code",
   "execution_count": 14,
   "id": "d2abf45e-41d5-418f-af40-f4a9da9f278a",
   "metadata": {},
   "outputs": [
    {
     "name": "stdout",
     "output_type": "stream",
     "text": [
      "50'den az inceleme yapılan oyunlar çıkarıldı.\n",
      "Kalan satır sayısı: 26212857\n"
     ]
    }
   ],
   "source": [
    "# games veri setinde user_reviews sütununu kullanarak inceleme sayısı 50'den düşük olan oyunları bul\n",
    "low_review_games = games[games['user_reviews'] < 100]\n",
    "\n",
    "# Bu oyunların app_id'lerini al\n",
    "low_review_app_ids = low_review_games['app_id']\n",
    "\n",
    "# filtered_recommendations veri setinden bu app_id'leri çıkar\n",
    "filtered_recommendations = filtered_recommendations[\n",
    "    ~filtered_recommendations['app_id'].isin(low_review_app_ids)\n",
    "]\n",
    "\n",
    "print(f\"50'den az inceleme yapılan oyunlar çıkarıldı.\")\n",
    "print(f\"Kalan satır sayısı: {len(filtered_recommendations)}\")"
   ]
  },
  {
   "cell_type": "code",
   "execution_count": 15,
   "id": "4e529b49-aaa5-42f1-b0a4-d7f79cfc0431",
   "metadata": {},
   "outputs": [
    {
     "name": "stdout",
     "output_type": "stream",
     "text": [
      "2 inceleme yapmış kullanıcılar çıkarıldı.\n",
      "Kalan satır sayısı: 22296064\n"
     ]
    }
   ],
   "source": [
    "# users veri setinden 2 inceleme yapmış kullanıcıları bul\n",
    "two_review_users = users[users['reviews'] == 2]\n",
    "\n",
    "# Bu kullanıcıların user_id'lerini al\n",
    "two_review_user_ids = two_review_users['user_id']\n",
    "\n",
    "# filtered_recommendations veri setinden bu user_id'leri çıkar\n",
    "filtered_recommendations = filtered_recommendations[\n",
    "    ~filtered_recommendations['user_id'].isin(two_review_user_ids)\n",
    "]\n",
    "\n",
    "print(f\"2 inceleme yapmış kullanıcılar çıkarıldı.\")\n",
    "print(f\"Kalan satır sayısı: {len(filtered_recommendations)}\")"
   ]
  },
  {
   "cell_type": "code",
   "execution_count": 16,
   "id": "8fb51566-415b-4f61-af71-32cba5707c4c",
   "metadata": {},
   "outputs": [
    {
     "name": "stdout",
     "output_type": "stream",
     "text": [
      "3 dolardan ucuz oyunlar çıkarıldı.\n",
      "Kalan satır sayısı: 7356932\n"
     ]
    }
   ],
   "source": [
    "# games veri setinde price_original sütununu kullanarak 3 dolardan ucuz oyunları bul\n",
    "cheap_games = games[games['price_original'] < 3]\n",
    "\n",
    "# Bu oyunların app_id'lerini al\n",
    "cheap_game_app_ids = cheap_games['app_id']\n",
    "\n",
    "# filtered_recommendations veri setinden bu app_id'leri çıkar\n",
    "filtered_recommendations = filtered_recommendations[\n",
    "    ~filtered_recommendations['app_id'].isin(cheap_game_app_ids)\n",
    "]\n",
    "\n",
    "# Sonuçları kontrol et\n",
    "print(f\"3 dolardan ucuz oyunlar çıkarıldı.\")\n",
    "print(f\"Kalan satır sayısı: {len(filtered_recommendations)}\")"
   ]
  },
  {
   "cell_type": "code",
   "execution_count": 17,
   "id": "7b00dcef-4afc-4241-918b-b42775f7fa95",
   "metadata": {},
   "outputs": [
    {
     "name": "stdout",
     "output_type": "stream",
     "text": [
      "Temizlenmiş Games Veri Seti Boyutu: (6228, 13)\n",
      "Temizlenmiş Users Veri Seti Boyutu: (2368365, 3)\n"
     ]
    }
   ],
   "source": [
    "# 1. Recommendations'da kalan kullanıcı ve oyun ID'lerini al\n",
    "valid_user_ids = filtered_recommendations['user_id'].unique()\n",
    "valid_game_ids = filtered_recommendations['app_id'].unique()\n",
    "\n",
    "# 2. Games veri setini temizle (sadece valid_game_ids'deki oyunlar kalsın)\n",
    "cleaned_games = games[games['app_id'].isin(valid_game_ids)]\n",
    "print(f\"Temizlenmiş Games Veri Seti Boyutu: {cleaned_games.shape}\")\n",
    "\n",
    "# 3. Users veri setini temizle (sadece valid_user_ids'deki kullanıcılar kalsın)\n",
    "cleaned_users = users[users['user_id'].isin(valid_user_ids)]\n",
    "print(f\"Temizlenmiş Users Veri Seti Boyutu: {cleaned_users.shape}\")"
   ]
  },
  {
   "cell_type": "code",
   "execution_count": 18,
   "id": "897a5018-5a4e-4d2f-95a6-1993fb55010d",
   "metadata": {},
   "outputs": [
    {
     "name": "stdout",
     "output_type": "stream",
     "text": [
      "Birleştirilmiş Veri Seti Boyutu: (7356932, 22)\n",
      "    app_id  helpful  funny       date  is_recommended  hours   user_id  \\\n",
      "0  1766740        0      0 2022-12-18            True   12.7   6766810   \n",
      "1  1766740        7      0 2022-12-26           False    2.8   7984323   \n",
      "2  1766740        0      0 2022-12-13           False    3.7  13376299   \n",
      "3  1766740        0      0 2022-12-10            True    2.9   5668417   \n",
      "4  1766740        0      0 2022-12-09            True    3.1   5737183   \n",
      "\n",
      "   review_id  products  reviews  ...   win    mac  linux         rating  \\\n",
      "0       2090       199       25  ...  True  False  False  Very Positive   \n",
      "1       4283       181        7  ...  True  False  False  Very Positive   \n",
      "2       6864        23        4  ...  True  False  False  Very Positive   \n",
      "3       8615        58        5  ...  True  False  False  Very Positive   \n",
      "4       8803       642        9  ...  True  False  False  Very Positive   \n",
      "\n",
      "   positive_ratio user_reviews  price_final  price_original  discount  \\\n",
      "0              92        10400        19.99           19.99       0.0   \n",
      "1              92        10400        19.99           19.99       0.0   \n",
      "2              92        10400        19.99           19.99       0.0   \n",
      "3              92        10400        19.99           19.99       0.0   \n",
      "4              92        10400        19.99           19.99       0.0   \n",
      "\n",
      "   steam_deck  \n",
      "0        True  \n",
      "1        True  \n",
      "2        True  \n",
      "3        True  \n",
      "4        True  \n",
      "\n",
      "[5 rows x 22 columns]\n"
     ]
    }
   ],
   "source": [
    "# 1. Recommendations ve Users'ı user_id üzerinden birleştir\n",
    "merged_users_recommendations = pd.merge(\n",
    "    filtered_recommendations,\n",
    "    cleaned_users,\n",
    "    on='user_id',\n",
    "    how='inner'\n",
    ")\n",
    "\n",
    "# 2. Yukarıdaki veri setini Games ile app_id üzerinden birleştir\n",
    "merged_dataset = pd.merge(\n",
    "    merged_users_recommendations,\n",
    "    cleaned_games,\n",
    "    on='app_id',\n",
    "    how='inner'\n",
    ")\n",
    "\n",
    "# 3. Birleştirilmiş veri setinin boyutunu ve örnek bir kısmını görüntüle\n",
    "print(f\"Birleştirilmiş Veri Seti Boyutu: {merged_dataset.shape}\")\n",
    "print(merged_dataset.head())"
   ]
  },
  {
   "cell_type": "code",
   "execution_count": 19,
   "id": "dafe2db9-7b91-41f7-bce1-574730fe72be",
   "metadata": {},
   "outputs": [
    {
     "name": "stdout",
     "output_type": "stream",
     "text": [
      "Güncel Veri Seti Boyutu: (7356932, 14)\n",
      "Kalan Sütunlar: ['app_id', 'date', 'is_recommended', 'hours', 'user_id', 'review_id', 'products', 'reviews', 'title', 'date_release', 'rating', 'positive_ratio', 'user_reviews', 'price_original']\n"
     ]
    }
   ],
   "source": [
    "# Gereksiz sütunları kaldır\n",
    "columns_to_drop = ['funny', 'helpful', 'win', 'mac', 'linux', 'price_final', 'discount', 'steam_deck']\n",
    "merged_dataset = merged_dataset.drop(columns=columns_to_drop, axis=1)\n",
    "\n",
    "# Güncel veri setinin boyutunu ve sütunlarını kontrol edin\n",
    "print(f\"Güncel Veri Seti Boyutu: {merged_dataset.shape}\")\n",
    "print(f\"Kalan Sütunlar: {list(merged_dataset.columns)}\")"
   ]
  },
  {
   "cell_type": "code",
   "execution_count": 20,
   "id": "9d1879fe-5cd2-4c80-ad36-0c9db573b161",
   "metadata": {},
   "outputs": [
    {
     "name": "stdout",
     "output_type": "stream",
     "text": [
      "Eksik Veriler:\n",
      "Series([], dtype: int64)\n"
     ]
    }
   ],
   "source": [
    "# Eksik veri kontrolü\n",
    "missing_data = merged_dataset.isnull().sum()\n",
    "\n",
    "# Eksik veri içeren sütunları yazdır\n",
    "print(\"Eksik Veriler:\")\n",
    "print(missing_data[missing_data > 0])"
   ]
  },
  {
   "cell_type": "code",
   "execution_count": 21,
   "id": "1f109f23-5d15-4eac-9004-c6dbf851b57c",
   "metadata": {},
   "outputs": [],
   "source": [
    "# merged_dataset'i kopyala\n",
    "merged_dataset_copy = merged_dataset.copy()"
   ]
  },
  {
   "cell_type": "code",
   "execution_count": 22,
   "id": "546eb7cc-5670-4bb2-bb2b-0b2a142c6e08",
   "metadata": {},
   "outputs": [],
   "source": [
    "merged_dataset_copy['user_id'] = merged_dataset_copy['user_id'].astype('int32')\n",
    "merged_dataset_copy['app_id'] = merged_dataset_copy['app_id'].astype('int32')\n",
    "merged_dataset_copy['hours'] = merged_dataset_copy['hours'].astype('float32')"
   ]
  },
  {
   "cell_type": "code",
   "execution_count": 23,
   "id": "51f79a87-d28a-4e0e-b8b0-a2e2a5563c94",
   "metadata": {},
   "outputs": [],
   "source": [
    "# En aktif kullanıcıları ve en çok oynanan oyunları seç\n",
    "top_users = merged_dataset_copy['user_id'].value_counts().nlargest(100000).index\n",
    "top_games = merged_dataset_copy['app_id'].value_counts().nlargest(1000).index\n",
    "\n",
    "# Veri setini filtrele\n",
    "reduced_dataset = merged_dataset_copy[\n",
    "    (merged_dataset_copy['user_id'].isin(top_users)) &\n",
    "    (merged_dataset_copy['app_id'].isin(top_games))\n",
    "]\n",
    "\n",
    "# Pivot işlemini uygula\n",
    "user_game_matrix = reduced_dataset.pivot_table(\n",
    "    index='user_id',\n",
    "    columns='app_id',\n",
    "    values='hours',\n",
    "    aggfunc='sum'\n",
    ").fillna(0)"
   ]
  },
  {
   "cell_type": "code",
   "execution_count": 24,
   "id": "d3503146-c344-495b-976d-aa25675a6a9e",
   "metadata": {},
   "outputs": [
    {
     "name": "stdout",
     "output_type": "stream",
     "text": [
      "User ID: 6560489\n",
      "                      title date_release                   rating  \\\n",
      "7574          Garden Galaxy   2022-12-14            Very Positive   \n",
      "9998   Betrayal At Club Low   2022-09-09            Very Positive   \n",
      "11796       NEKOPARA Vol. 3   2017-05-25  Overwhelmingly Positive   \n",
      "18195         Spirits Abyss   2020-08-27            Very Positive   \n",
      "18476      Finding Paradise   2017-12-14  Overwhelmingly Positive   \n",
      "\n",
      "       positive_ratio  price_original  \n",
      "7574               97            9.99  \n",
      "9998               97            9.99  \n",
      "11796              97            9.99  \n",
      "18195              97            9.99  \n",
      "18476              97            9.99  \n",
      "\n",
      "\n",
      "User ID: 8259040\n",
      "                                title date_release         rating  \\\n",
      "1760                 Cat Cafe Manager   2022-04-14  Very Positive   \n",
      "5540          Eastside Hockey Manager   2015-12-01  Very Positive   \n",
      "8419          Autonauts vs Piratebots   2022-07-28  Very Positive   \n",
      "18580  Zero Escape: Zero Time Dilemma   2016-06-29  Very Positive   \n",
      "48360                  Yes Your Grace   2020-03-06  Very Positive   \n",
      "\n",
      "       positive_ratio  price_original  \n",
      "1760               85           19.99  \n",
      "5540               85           19.99  \n",
      "8419               85           19.99  \n",
      "18580              85           19.99  \n",
      "48360              85           19.99  \n",
      "\n",
      "\n",
      "User ID: 5052998\n",
      "                           title date_release         rating  positive_ratio  \\\n",
      "164                    Underhero   2018-09-19  Very Positive              91   \n",
      "6209               Transcendence   2015-07-24  Very Positive              91   \n",
      "9292    BloodRayne: Terminal Cut   2020-11-20  Very Positive              91   \n",
      "16727                    Retimed   2019-12-05  Very Positive              91   \n",
      "18055  Space Beast Terror Fright   2022-06-03  Very Positive              91   \n",
      "\n",
      "       price_original  \n",
      "164             14.99  \n",
      "6209            14.99  \n",
      "9292            14.99  \n",
      "16727           14.99  \n",
      "18055           14.99  \n",
      "\n",
      "\n",
      "User ID: 10151190\n",
      "                                            title date_release  \\\n",
      "2732                                   Wolf Tails   2018-05-04   \n",
      "5706                                Night Reverie   2021-10-08   \n",
      "8883                                      Shipped   2019-03-28   \n",
      "12813       MOTHERED - A ROLE-PLAYING HORROR GAME   2021-12-24   \n",
      "14699  Home Sheep Home: Farmageddon Party Edition   2014-02-17   \n",
      "\n",
      "                        rating  positive_ratio  price_original  \n",
      "2732   Overwhelmingly Positive              96            9.99  \n",
      "5706             Very Positive              96            9.99  \n",
      "8883   Overwhelmingly Positive              96            9.99  \n",
      "12813            Very Positive              96            9.99  \n",
      "14699            Very Positive              96            9.99  \n",
      "\n",
      "\n",
      "User ID: 7031947\n",
      "                                     title date_release         rating  \\\n",
      "2877                 Day of Defeat: Source   2010-07-12  Very Positive   \n",
      "6057                  Superfighters Deluxe   2018-11-30  Very Positive   \n",
      "6153                        军团战棋Legion War   2021-07-14  Very Positive   \n",
      "9837                          GOAT OF DUTY   2019-07-10  Very Positive   \n",
      "14072  Darkest Hour: A Hearts of Iron Game   2011-04-08  Very Positive   \n",
      "\n",
      "       positive_ratio  price_original  \n",
      "2877               90            9.99  \n",
      "6057               90            9.99  \n",
      "6153               90            9.99  \n",
      "9837               90            9.99  \n",
      "14072              90            9.99  \n",
      "\n",
      "\n"
     ]
    }
   ],
   "source": [
    "from sklearn.metrics.pairwise import cosine_similarity\n",
    "import random\n",
    "\n",
    "# Oyun özelliklerini kullanarak benzerlik matrisi oluştur\n",
    "game_features = cleaned_games[['positive_ratio', 'price_original']].values\n",
    "game_similarity = cosine_similarity(game_features)\n",
    "game_similarity_df = pd.DataFrame(game_similarity, index=cleaned_games['app_id'], columns=cleaned_games['app_id'])\n",
    "\n",
    "# 3. Rastgele kullanıcı seçimi\n",
    "random_users = random.sample(list(user_game_matrix.index), 5)\n",
    "\n",
    "for user in random_users:\n",
    "    print(f\"User ID: {user}\")\n",
    "\n",
    "    # Kullanıcının oynadığı oyunlar\n",
    "    played_games = user_game_matrix.loc[user][user_game_matrix.loc[user] > 0].index.tolist()\n",
    "    \n",
    "    # Oynanan oyunlara benzer oyunları bul\n",
    "    recommended_games = []\n",
    "    for game in played_games:\n",
    "        similar_games = game_similarity_df[game].sort_values(ascending=False).index[1:6].tolist()\n",
    "        for sim_game in similar_games:\n",
    "            if sim_game not in played_games and sim_game not in recommended_games:\n",
    "                recommended_games.append(sim_game)\n",
    "                if len(recommended_games) == 5:\n",
    "                    break\n",
    "        if len(recommended_games) == 5:\n",
    "            break\n",
    "\n",
    "    # Önerilen oyunların özelliklerini görüntüle\n",
    "    recommendations = cleaned_games[cleaned_games['app_id'].isin(recommended_games)][['title', 'date_release', 'rating', 'positive_ratio', 'price_original']]\n",
    "    print(recommendations)\n",
    "    print(\"\\n\")"
   ]
  },
  {
   "cell_type": "code",
   "execution_count": 61,
   "id": "f40a8908-26e8-40cb-a454-9c1fc96bc7c7",
   "metadata": {},
   "outputs": [
    {
     "name": "stdout",
     "output_type": "stream",
     "text": [
      "Mean Absolute Error (MAE): 29.6469\n",
      "Model Accuracy (%10 threshold): 3.82%\n"
     ]
    }
   ],
   "source": [
    "from sklearn.metrics import mean_absolute_error\n",
    "\n",
    "# Örnek veri seti üzerinde çalışalım\n",
    "reduced_dataset_sample = reduced_dataset.sample(1000000, random_state=42)\n",
    "\n",
    "# Tüm oyunların oynanma süresi ortalaması\n",
    "game_avg_hours = reduced_dataset_sample.groupby('app_id')['hours'].mean()\n",
    "\n",
    "# Benzer oyunların saat ortalamalarını vektörleştirerek hesapla\n",
    "def predict_hours(app_id):\n",
    "    if app_id in game_similarity_df.index:\n",
    "        similar_games = game_similarity_df[app_id].sort_values(ascending=False).index[1:6]\n",
    "        # Benzer oyunların sadece game_avg_hours'ta olanlarını kullan\n",
    "        valid_similar_games = [game for game in similar_games if game in game_avg_hours.index]\n",
    "        if valid_similar_games:  # Eğer geçerli benzer oyun varsa\n",
    "            return game_avg_hours[valid_similar_games].mean()\n",
    "    return 0  # Eğer benzer oyun yoksa 0 döner\n",
    "\n",
    "# Tahmin edilen saatler\n",
    "reduced_dataset_sample['predicted_hours'] = reduced_dataset_sample['app_id'].apply(predict_hours)\n",
    "\n",
    "# MAE ve Accuracy Hesaplama\n",
    "actual_hours = reduced_dataset_sample['hours']\n",
    "predicted_hours = reduced_dataset_sample['predicted_hours']\n",
    "\n",
    "mae = mean_absolute_error(actual_hours, predicted_hours)\n",
    "accuracy = (abs(actual_hours - predicted_hours) / actual_hours <= 0.1).mean()\n",
    "\n",
    "print(f\"Mean Absolute Error (MAE): {mae:.4f}\")\n",
    "print(f\"Model Accuracy (%10 threshold): {accuracy:.2%}\")"
   ]
  },
  {
   "cell_type": "code",
   "execution_count": null,
   "id": "bf370b6a-3310-4902-b1ea-6f8d177fa839",
   "metadata": {},
   "outputs": [],
   "source": []
  }
 ],
 "metadata": {
  "kernelspec": {
   "display_name": "Python [conda env:base] *",
   "language": "python",
   "name": "conda-base-py"
  },
  "language_info": {
   "codemirror_mode": {
    "name": "ipython",
    "version": 3
   },
   "file_extension": ".py",
   "mimetype": "text/x-python",
   "name": "python",
   "nbconvert_exporter": "python",
   "pygments_lexer": "ipython3",
   "version": "3.12.7"
  }
 },
 "nbformat": 4,
 "nbformat_minor": 5
}
