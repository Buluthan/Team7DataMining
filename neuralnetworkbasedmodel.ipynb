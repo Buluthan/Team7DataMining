{
 "cells": [
  {
   "cell_type": "code",
   "execution_count": 2,
   "id": "ee24f5e5-a0d5-4bad-b7a1-2f5a053520fc",
   "metadata": {},
   "outputs": [
    {
     "name": "stdout",
     "output_type": "stream",
     "text": [
      "Requirement already satisfied: tensorflow in c:\\users\\bulut\\anaconda3\\envs\\testv\\lib\\site-packages (1.14.0)\n",
      "Requirement already satisfied: absl-py>=0.7.0 in c:\\users\\bulut\\anaconda3\\envs\\testv\\lib\\site-packages (from tensorflow) (2.1.0)\n",
      "Requirement already satisfied: astor>=0.6.0 in c:\\users\\bulut\\anaconda3\\envs\\testv\\lib\\site-packages (from tensorflow) (0.8.1)\n",
      "Requirement already satisfied: gast>=0.2.0 in c:\\users\\bulut\\anaconda3\\envs\\testv\\lib\\site-packages (from tensorflow) (0.5.5)\n",
      "Requirement already satisfied: google-pasta>=0.1.6 in c:\\users\\bulut\\anaconda3\\envs\\testv\\lib\\site-packages (from tensorflow) (0.2.0)\n",
      "Requirement already satisfied: keras-applications>=1.0.6 in c:\\users\\bulut\\anaconda3\\envs\\testv\\lib\\site-packages (from tensorflow) (1.0.8)\n",
      "Requirement already satisfied: keras-preprocessing>=1.0.5 in c:\\users\\bulut\\anaconda3\\envs\\testv\\lib\\site-packages (from tensorflow) (1.1.2)\n",
      "Requirement already satisfied: numpy<2.0,>=1.14.5 in c:\\users\\bulut\\anaconda3\\envs\\testv\\lib\\site-packages (from tensorflow) (1.21.6)\n",
      "Requirement already satisfied: six>=1.10.0 in c:\\users\\bulut\\anaconda3\\envs\\testv\\lib\\site-packages (from tensorflow) (1.16.0)\n",
      "Requirement already satisfied: protobuf>=3.6.1 in c:\\users\\bulut\\anaconda3\\envs\\testv\\lib\\site-packages (from tensorflow) (4.21.8)\n",
      "Requirement already satisfied: tensorboard<1.15.0,>=1.14.0 in c:\\users\\bulut\\anaconda3\\envs\\testv\\lib\\site-packages (from tensorflow) (1.14.0)\n",
      "Requirement already satisfied: tensorflow-estimator<1.15.0rc0,>=1.14.0rc0 in c:\\users\\bulut\\anaconda3\\envs\\testv\\lib\\site-packages (from tensorflow) (1.14.0)\n",
      "Requirement already satisfied: termcolor>=1.1.0 in c:\\users\\bulut\\anaconda3\\envs\\testv\\lib\\site-packages (from tensorflow) (2.3.0)\n",
      "Requirement already satisfied: wrapt>=1.11.1 in c:\\users\\bulut\\anaconda3\\envs\\testv\\lib\\site-packages (from tensorflow) (1.14.1)\n",
      "Requirement already satisfied: grpcio>=1.8.6 in c:\\users\\bulut\\anaconda3\\envs\\testv\\lib\\site-packages (from tensorflow) (1.48.1)\n",
      "Requirement already satisfied: wheel>=0.26 in c:\\users\\bulut\\anaconda3\\envs\\testv\\lib\\site-packages (from tensorflow) (0.42.0)\n",
      "Requirement already satisfied: h5py in c:\\users\\bulut\\anaconda3\\envs\\testv\\lib\\site-packages (from keras-applications>=1.0.6->tensorflow) (3.7.0)\n",
      "Requirement already satisfied: markdown>=2.6.8 in c:\\users\\bulut\\anaconda3\\envs\\testv\\lib\\site-packages (from tensorboard<1.15.0,>=1.14.0->tensorflow) (3.6)\n",
      "Requirement already satisfied: setuptools>=41.0.0 in c:\\users\\bulut\\anaconda3\\envs\\testv\\lib\\site-packages (from tensorboard<1.15.0,>=1.14.0->tensorflow) (59.8.0)\n",
      "Requirement already satisfied: werkzeug>=0.11.15 in c:\\users\\bulut\\anaconda3\\envs\\testv\\lib\\site-packages (from tensorboard<1.15.0,>=1.14.0->tensorflow) (2.2.3)\n",
      "Requirement already satisfied: importlib-metadata>=4.4 in c:\\users\\bulut\\anaconda3\\envs\\testv\\lib\\site-packages (from markdown>=2.6.8->tensorboard<1.15.0,>=1.14.0->tensorflow) (4.11.4)\n",
      "Requirement already satisfied: MarkupSafe>=2.1.1 in c:\\users\\bulut\\anaconda3\\envs\\testv\\lib\\site-packages (from werkzeug>=0.11.15->tensorboard<1.15.0,>=1.14.0->tensorflow) (2.1.1)\n",
      "Requirement already satisfied: zipp>=0.5 in c:\\users\\bulut\\anaconda3\\envs\\testv\\lib\\site-packages (from importlib-metadata>=4.4->markdown>=2.6.8->tensorboard<1.15.0,>=1.14.0->tensorflow) (3.15.0)\n",
      "Requirement already satisfied: typing-extensions>=3.6.4 in c:\\users\\bulut\\anaconda3\\envs\\testv\\lib\\site-packages (from importlib-metadata>=4.4->markdown>=2.6.8->tensorboard<1.15.0,>=1.14.0->tensorflow) (4.7.1)\n",
      "Note: you may need to restart the kernel to use updated packages.\n"
     ]
    }
   ],
   "source": [
    "pip install tensorflow"
   ]
  },
  {
   "cell_type": "code",
   "execution_count": 4,
   "id": "acebdb87-53da-4c83-9fa3-a46756aec1ed",
   "metadata": {},
   "outputs": [],
   "source": [
    "import pandas as pd  # Veri işleme\n",
    "import numpy as np  # Sayısal işlemler\n",
    "import matplotlib.pyplot as plt  # Veri görselleştirme\n",
    "import seaborn as sns  # İstatistiksel veri görselleştirme\n",
    "import gc"
   ]
  },
  {
   "cell_type": "code",
   "execution_count": 5,
   "id": "1bc1af21-d6c7-4b8f-92cd-9e1421b47789",
   "metadata": {},
   "outputs": [],
   "source": [
    "games = pd.read_csv('games.csv')\n",
    "recommendations = pd.read_csv('recommendations.csv')\n",
    "users = pd.read_csv('users.csv')"
   ]
  },
  {
   "cell_type": "code",
   "execution_count": 6,
   "id": "2b68b1a3-e4ef-4992-9156-00d279fdd3d0",
   "metadata": {},
   "outputs": [
    {
     "name": "stdout",
     "output_type": "stream",
     "text": [
      "games.csv başlıkları: ['app_id', 'title', 'date_release', 'win', 'mac', 'linux', 'rating', 'positive_ratio', 'user_reviews', 'price_final', 'price_original', 'discount', 'steam_deck']\n"
     ]
    }
   ],
   "source": [
    "print(\"games.csv başlıkları:\", list(games.columns))"
   ]
  },
  {
   "cell_type": "code",
   "execution_count": 7,
   "id": "6a2d8a5c-87c6-4d22-a609-38cd1511f24c",
   "metadata": {},
   "outputs": [
    {
     "name": "stdout",
     "output_type": "stream",
     "text": [
      "recommendations.csv başlıkları: ['app_id', 'helpful', 'funny', 'date', 'is_recommended', 'hours', 'user_id', 'review_id']\n"
     ]
    }
   ],
   "source": [
    "print(\"recommendations.csv başlıkları:\", list(recommendations.columns))"
   ]
  },
  {
   "cell_type": "code",
   "execution_count": 8,
   "id": "27246c15-4cd5-41c4-abaf-f9823491b489",
   "metadata": {},
   "outputs": [
    {
     "name": "stdout",
     "output_type": "stream",
     "text": [
      "users.csv başlıkları: ['user_id', 'products', 'reviews']\n"
     ]
    }
   ],
   "source": [
    "print(\"users.csv başlıkları:\", list(users.columns))"
   ]
  },
  {
   "cell_type": "code",
   "execution_count": 9,
   "id": "be306f61-1145-4597-8719-07ef2938b930",
   "metadata": {},
   "outputs": [
    {
     "name": "stdout",
     "output_type": "stream",
     "text": [
      "games.csv veri tipleri:\n",
      " app_id              int64\n",
      "title              object\n",
      "date_release       object\n",
      "win                  bool\n",
      "mac                  bool\n",
      "linux                bool\n",
      "rating             object\n",
      "positive_ratio      int64\n",
      "user_reviews        int64\n",
      "price_final       float64\n",
      "price_original    float64\n",
      "discount          float64\n",
      "steam_deck           bool\n",
      "dtype: object\n"
     ]
    }
   ],
   "source": [
    "print(\"games.csv veri tipleri:\\n\", games.dtypes)"
   ]
  },
  {
   "cell_type": "code",
   "execution_count": 10,
   "id": "f0dfba15-b76c-401d-b837-83ce2db29af7",
   "metadata": {},
   "outputs": [
    {
     "name": "stdout",
     "output_type": "stream",
     "text": [
      "\n",
      "recommendations.csv veri tipleri:\n",
      " app_id              int64\n",
      "helpful             int64\n",
      "funny               int64\n",
      "date               object\n",
      "is_recommended       bool\n",
      "hours             float64\n",
      "user_id             int64\n",
      "review_id           int64\n",
      "dtype: object\n"
     ]
    }
   ],
   "source": [
    "print(\"\\nrecommendations.csv veri tipleri:\\n\", recommendations.dtypes)"
   ]
  },
  {
   "cell_type": "code",
   "execution_count": 11,
   "id": "6a8f91d0-0727-4bcd-be38-08284f93bb04",
   "metadata": {},
   "outputs": [
    {
     "name": "stdout",
     "output_type": "stream",
     "text": [
      "\n",
      "users.csv veri tipleri:\n",
      " user_id     int64\n",
      "products    int64\n",
      "reviews     int64\n",
      "dtype: object\n"
     ]
    }
   ],
   "source": [
    "print(\"\\nusers.csv veri tipleri:\\n\", users.dtypes)"
   ]
  },
  {
   "cell_type": "code",
   "execution_count": 13,
   "id": "43b1deb5-25f9-4e9c-bfd7-6956a8305947",
   "metadata": {},
   "outputs": [],
   "source": [
    "# recommendations.csv'deki date sütununu datetime formatına çevir\n",
    "recommendations['date'] = pd.to_datetime(recommendations['date'], errors='coerce')"
   ]
  },
  {
   "cell_type": "code",
   "execution_count": 14,
   "id": "c4840fe0-71dc-4a8c-bf91-987616eb9df9",
   "metadata": {},
   "outputs": [
    {
     "name": "stdout",
     "output_type": "stream",
     "text": [
      "Date sütununda hatalı dönüşüm (NaT) sayısı: 0\n"
     ]
    }
   ],
   "source": [
    "# date sütunundaki hatalı dönüşümleri kontrol et (NaT olanlar)\n",
    "print(\"Date sütununda hatalı dönüşüm (NaT) sayısı:\", recommendations['date'].isnull().sum())"
   ]
  },
  {
   "cell_type": "code",
   "execution_count": 15,
   "id": "7fe2d1d3-5d7c-400a-96ae-6a0a58489502",
   "metadata": {},
   "outputs": [
    {
     "name": "stdout",
     "output_type": "stream",
     "text": [
      "Orijinal recommendations veri setindeki satır sayısı: 41154794\n",
      "Filtrelenmiş recommendations veri setindeki satır sayısı: 33581767\n",
      "Çıkarılan kullanıcı sayısı: 7573027\n"
     ]
    }
   ],
   "source": [
    "# 1 inceleme yazan kullanıcıları belirleme\n",
    "single_review_users = users[users['reviews'] == 1]['user_id']\n",
    "\n",
    "# Bu kullanıcıları recommendations veri setinden çıkarma\n",
    "filtered_recommendations = recommendations[~recommendations['user_id'].isin(single_review_users)]\n",
    "\n",
    "# Sonuçları kontrol etme\n",
    "print(f\"Orijinal recommendations veri setindeki satır sayısı: {len(recommendations)}\")\n",
    "print(f\"Filtrelenmiş recommendations veri setindeki satır sayısı: {len(filtered_recommendations)}\")\n",
    "print(f\"Çıkarılan kullanıcı sayısı: {len(single_review_users)}\")"
   ]
  },
  {
   "cell_type": "code",
   "execution_count": 16,
   "id": "64ea2213-c758-4f6f-ada7-fca2ac887271",
   "metadata": {},
   "outputs": [
    {
     "name": "stdout",
     "output_type": "stream",
     "text": [
      "Orijinal filtered_recommendations satır sayısı: 41154794\n",
      "Yeni filtered_recommendations satır sayısı: 26491077\n",
      "Çıkarılan oyun sayısı: 20614\n"
     ]
    }
   ],
   "source": [
    "# 1. games veri setinden kriterlere uygun oyunları tespit et\n",
    "excluded_games = games[\n",
    "    (games['price_original'] > 20) |       # 20 dolardan pahalı oyunlar\n",
    "    (games['positive_ratio'] < 75) |      # positive_ratio 75'ten düşük olan oyunlar\n",
    "    (pd.to_datetime(games['date_release']).dt.year < 2000)  # 2000 yılından önce çıkan oyunlar\n",
    "]\n",
    "\n",
    "# Tespit edilen oyunların app_id'lerini al\n",
    "excluded_app_ids = excluded_games['app_id']\n",
    "\n",
    "# 2. Bu app_id'leri filtered_recommendations veri setinden çıkar\n",
    "filtered_recommendations = filtered_recommendations[\n",
    "    ~filtered_recommendations['app_id'].isin(excluded_app_ids)\n",
    "]\n",
    "\n",
    "# Sonuçları kontrol et\n",
    "print(f\"Orijinal filtered_recommendations satır sayısı: {len(recommendations)}\")\n",
    "print(f\"Yeni filtered_recommendations satır sayısı: {len(filtered_recommendations)}\")\n",
    "print(f\"Çıkarılan oyun sayısı: {len(excluded_app_ids)}\")"
   ]
  },
  {
   "cell_type": "code",
   "execution_count": 17,
   "id": "ba7bd993-e93a-4a7b-878c-2b6b0dce4c4f",
   "metadata": {},
   "outputs": [
    {
     "name": "stdout",
     "output_type": "stream",
     "text": [
      "50'den az inceleme yapılan oyunlar çıkarıldı.\n",
      "Kalan satır sayısı: 26212857\n"
     ]
    }
   ],
   "source": [
    "# games veri setinde user_reviews sütununu kullanarak inceleme sayısı 50'den düşük olan oyunları bul\n",
    "low_review_games = games[games['user_reviews'] < 100]\n",
    "\n",
    "# Bu oyunların app_id'lerini al\n",
    "low_review_app_ids = low_review_games['app_id']\n",
    "\n",
    "# filtered_recommendations veri setinden bu app_id'leri çıkar\n",
    "filtered_recommendations = filtered_recommendations[\n",
    "    ~filtered_recommendations['app_id'].isin(low_review_app_ids)\n",
    "]\n",
    "\n",
    "print(f\"50'den az inceleme yapılan oyunlar çıkarıldı.\")\n",
    "print(f\"Kalan satır sayısı: {len(filtered_recommendations)}\")"
   ]
  },
  {
   "cell_type": "code",
   "execution_count": 18,
   "id": "21faa49e-bbe1-4009-a491-f28de8b30360",
   "metadata": {},
   "outputs": [
    {
     "name": "stdout",
     "output_type": "stream",
     "text": [
      "2 inceleme yapmış kullanıcılar çıkarıldı.\n",
      "Kalan satır sayısı: 22296064\n"
     ]
    }
   ],
   "source": [
    "# users veri setinden 2 inceleme yapmış kullanıcıları bul\n",
    "two_review_users = users[users['reviews'] == 2]\n",
    "\n",
    "# Bu kullanıcıların user_id'lerini al\n",
    "two_review_user_ids = two_review_users['user_id']\n",
    "\n",
    "# filtered_recommendations veri setinden bu user_id'leri çıkar\n",
    "filtered_recommendations = filtered_recommendations[\n",
    "    ~filtered_recommendations['user_id'].isin(two_review_user_ids)\n",
    "]\n",
    "\n",
    "print(f\"2 inceleme yapmış kullanıcılar çıkarıldı.\")\n",
    "print(f\"Kalan satır sayısı: {len(filtered_recommendations)}\")"
   ]
  },
  {
   "cell_type": "code",
   "execution_count": 19,
   "id": "3858d807-e5c0-4fbd-9ccd-a12d25af5290",
   "metadata": {},
   "outputs": [
    {
     "name": "stdout",
     "output_type": "stream",
     "text": [
      "3 dolardan ucuz oyunlar çıkarıldı.\n",
      "Kalan satır sayısı: 7356932\n"
     ]
    }
   ],
   "source": [
    "# games veri setinde price_original sütununu kullanarak 3 dolardan ucuz oyunları bul\n",
    "cheap_games = games[games['price_original'] < 3]\n",
    "\n",
    "# Bu oyunların app_id'lerini al\n",
    "cheap_game_app_ids = cheap_games['app_id']\n",
    "\n",
    "# filtered_recommendations veri setinden bu app_id'leri çıkar\n",
    "filtered_recommendations = filtered_recommendations[\n",
    "    ~filtered_recommendations['app_id'].isin(cheap_game_app_ids)\n",
    "]\n",
    "\n",
    "# Sonuçları kontrol et\n",
    "print(f\"3 dolardan ucuz oyunlar çıkarıldı.\")\n",
    "print(f\"Kalan satır sayısı: {len(filtered_recommendations)}\")"
   ]
  },
  {
   "cell_type": "code",
   "execution_count": 20,
   "id": "16bf8d6e-5094-4302-9167-05ab29f4b149",
   "metadata": {},
   "outputs": [
    {
     "name": "stdout",
     "output_type": "stream",
     "text": [
      "Temizlenmiş Games Veri Seti Boyutu: (6228, 13)\n",
      "Temizlenmiş Users Veri Seti Boyutu: (2368365, 3)\n"
     ]
    }
   ],
   "source": [
    "# 1. Recommendations'da kalan kullanıcı ve oyun ID'lerini al\n",
    "valid_user_ids = filtered_recommendations['user_id'].unique()\n",
    "valid_game_ids = filtered_recommendations['app_id'].unique()\n",
    "\n",
    "# 2. Games veri setini temizle (sadece valid_game_ids'deki oyunlar kalsın)\n",
    "cleaned_games = games[games['app_id'].isin(valid_game_ids)]\n",
    "print(f\"Temizlenmiş Games Veri Seti Boyutu: {cleaned_games.shape}\")\n",
    "\n",
    "# 3. Users veri setini temizle (sadece valid_user_ids'deki kullanıcılar kalsın)\n",
    "cleaned_users = users[users['user_id'].isin(valid_user_ids)]\n",
    "print(f\"Temizlenmiş Users Veri Seti Boyutu: {cleaned_users.shape}\")"
   ]
  },
  {
   "cell_type": "code",
   "execution_count": 21,
   "id": "570ca635-120f-49a2-92cd-081dd18f3ae9",
   "metadata": {},
   "outputs": [
    {
     "name": "stdout",
     "output_type": "stream",
     "text": [
      "Birleştirilmiş Veri Seti Boyutu: (7356932, 22)\n",
      "    app_id  helpful  funny       date  is_recommended  hours   user_id  \\\n",
      "0  1766740        0      0 2022-12-18            True   12.7   6766810   \n",
      "1  1766740        7      0 2022-12-26           False    2.8   7984323   \n",
      "2  1766740        0      0 2022-12-13           False    3.7  13376299   \n",
      "3  1766740        0      0 2022-12-10            True    2.9   5668417   \n",
      "4  1766740        0      0 2022-12-09            True    3.1   5737183   \n",
      "\n",
      "   review_id  products  reviews  ...   win    mac  linux         rating  \\\n",
      "0       2090       199       25  ...  True  False  False  Very Positive   \n",
      "1       4283       181        7  ...  True  False  False  Very Positive   \n",
      "2       6864        23        4  ...  True  False  False  Very Positive   \n",
      "3       8615        58        5  ...  True  False  False  Very Positive   \n",
      "4       8803       642        9  ...  True  False  False  Very Positive   \n",
      "\n",
      "   positive_ratio user_reviews  price_final  price_original  discount  \\\n",
      "0              92        10400        19.99           19.99       0.0   \n",
      "1              92        10400        19.99           19.99       0.0   \n",
      "2              92        10400        19.99           19.99       0.0   \n",
      "3              92        10400        19.99           19.99       0.0   \n",
      "4              92        10400        19.99           19.99       0.0   \n",
      "\n",
      "   steam_deck  \n",
      "0        True  \n",
      "1        True  \n",
      "2        True  \n",
      "3        True  \n",
      "4        True  \n",
      "\n",
      "[5 rows x 22 columns]\n"
     ]
    }
   ],
   "source": [
    "# 1. Recommendations ve Users'ı user_id üzerinden birleştir\n",
    "merged_users_recommendations = pd.merge(\n",
    "    filtered_recommendations,\n",
    "    cleaned_users,\n",
    "    on='user_id',\n",
    "    how='inner'\n",
    ")\n",
    "\n",
    "# 2. Yukarıdaki veri setini Games ile app_id üzerinden birleştir\n",
    "merged_dataset = pd.merge(\n",
    "    merged_users_recommendations,\n",
    "    cleaned_games,\n",
    "    on='app_id',\n",
    "    how='inner'\n",
    ")\n",
    "\n",
    "# 3. Birleştirilmiş veri setinin boyutunu ve örnek bir kısmını görüntüle\n",
    "print(f\"Birleştirilmiş Veri Seti Boyutu: {merged_dataset.shape}\")\n",
    "print(merged_dataset.head())"
   ]
  },
  {
   "cell_type": "code",
   "execution_count": 22,
   "id": "18ae755a-50d7-448d-82f5-c33ac43f0378",
   "metadata": {},
   "outputs": [
    {
     "name": "stdout",
     "output_type": "stream",
     "text": [
      "Güncel Veri Seti Boyutu: (7356932, 14)\n",
      "Kalan Sütunlar: ['app_id', 'date', 'is_recommended', 'hours', 'user_id', 'review_id', 'products', 'reviews', 'title', 'date_release', 'rating', 'positive_ratio', 'user_reviews', 'price_original']\n"
     ]
    }
   ],
   "source": [
    "# Gereksiz sütunları kaldır\n",
    "columns_to_drop = ['funny', 'helpful', 'win', 'mac', 'linux', 'price_final', 'discount', 'steam_deck']\n",
    "merged_dataset = merged_dataset.drop(columns=columns_to_drop, axis=1)\n",
    "\n",
    "# Güncel veri setinin boyutunu ve sütunlarını kontrol edin\n",
    "print(f\"Güncel Veri Seti Boyutu: {merged_dataset.shape}\")\n",
    "print(f\"Kalan Sütunlar: {list(merged_dataset.columns)}\")"
   ]
  },
  {
   "cell_type": "code",
   "execution_count": 23,
   "id": "f8cd4a16-9406-4b12-8c83-121f0f28cc26",
   "metadata": {},
   "outputs": [
    {
     "name": "stdout",
     "output_type": "stream",
     "text": [
      "Eksik Veriler:\n",
      "Series([], dtype: int64)\n"
     ]
    }
   ],
   "source": [
    "# Eksik veri kontrolü\n",
    "missing_data = merged_dataset.isnull().sum()\n",
    "\n",
    "# Eksik veri içeren sütunları yazdır\n",
    "print(\"Eksik Veriler:\")\n",
    "print(missing_data[missing_data > 0])"
   ]
  },
  {
   "cell_type": "code",
   "execution_count": 24,
   "id": "e4079574-5750-42b9-95ab-c59d461e8051",
   "metadata": {},
   "outputs": [],
   "source": [
    "# merged_dataset'i kopyala\n",
    "merged_dataset_copy = merged_dataset.copy()"
   ]
  },
  {
   "cell_type": "code",
   "execution_count": 25,
   "id": "71a2a772-2cc2-470d-a962-572487af147a",
   "metadata": {},
   "outputs": [],
   "source": [
    "merged_dataset_copy['user_id'] = merged_dataset_copy['user_id'].astype('int32')\n",
    "merged_dataset_copy['app_id'] = merged_dataset_copy['app_id'].astype('int32')\n",
    "merged_dataset_copy['hours'] = merged_dataset_copy['hours'].astype('float32')"
   ]
  },
  {
   "cell_type": "code",
   "execution_count": 26,
   "id": "4d77a0ef-55f4-4526-83e8-346c3dd98e86",
   "metadata": {},
   "outputs": [
    {
     "name": "stdout",
     "output_type": "stream",
     "text": [
      "Sparse matrix boyutları: (2368365, 6228)\n",
      "Sparse matrix dolu eleman sayısı: 7356932\n"
     ]
    }
   ],
   "source": [
    "from scipy.sparse import coo_matrix\n",
    "\n",
    "# Kullanıcı ve oyun ID'lerini kategorik kodlara dönüştür\n",
    "rows = merged_dataset['user_id'].astype('category').cat.codes\n",
    "cols = merged_dataset['app_id'].astype('category').cat.codes\n",
    "\n",
    "# is_recommended sütununu sparse matrise değer olarak kullan\n",
    "data = merged_dataset['is_recommended'].astype(int)  # True/False'u 1/0'a çeviriyoruz\n",
    "\n",
    "# COO formatında sparse matris oluştur\n",
    "sparse_matrix = coo_matrix((data, (rows, cols)))\n",
    "\n",
    "# Matrisin boyutlarını kontrol et\n",
    "print(f\"Sparse matrix boyutları: {sparse_matrix.shape}\")\n",
    "print(f\"Sparse matrix dolu eleman sayısı: {sparse_matrix.nnz}\")"
   ]
  },
  {
   "cell_type": "code",
   "execution_count": 27,
   "id": "ed844e32-d5af-4f53-9ee0-c6eea777a5a4",
   "metadata": {},
   "outputs": [
    {
     "name": "stdout",
     "output_type": "stream",
     "text": [
      "Eğitim Seti Boyutu: (5885545, 2)\n",
      "Test Seti Boyutu: (1471387, 2)\n"
     ]
    }
   ],
   "source": [
    "from sklearn.model_selection import train_test_split\n",
    "\n",
    "# Kullanıcı ve oyun çiftlerini ve hedef değerlerini oluşturma\n",
    "rows, cols = sparse_matrix.row, sparse_matrix.col\n",
    "values = sparse_matrix.data\n",
    "\n",
    "X = np.vstack([rows, cols]).T\n",
    "y = values\n",
    "\n",
    "# Veriyi eğitim ve test setlerine ayır\n",
    "X_train, X_test, y_train, y_test = train_test_split(X, y, test_size=0.2, random_state=42)\n",
    "\n",
    "# Kullanıcı ve oyun çiftlerini ayır\n",
    "X_train_user, X_train_game = X_train[:, 0], X_train[:, 1]\n",
    "X_test_user, X_test_game = X_test[:, 0], X_test[:, 1]\n",
    "\n",
    "# Eğitim ve test setlerinin boyutlarını kontrol et\n",
    "print(f\"Eğitim Seti Boyutu: {X_train.shape}\")\n",
    "print(f\"Test Seti Boyutu: {X_test.shape}\")"
   ]
  },
  {
   "cell_type": "code",
   "execution_count": 66,
   "id": "0ff9e080-67d8-4c43-8348-8f24c69a5e83",
   "metadata": {},
   "outputs": [
    {
     "name": "stdout",
     "output_type": "stream",
     "text": [
      "Train on 5885545 samples, validate on 1471387 samples\n",
      "Epoch 1/5\n",
      "5885545/5885545 [==============================] - 3173s 539us/sample - loss: 0.2931 - acc: 0.9018 - mean_absolute_error: 0.1660 - val_loss: 0.2857 - val_acc: 0.9026 - val_mean_absolute_error: 0.1586\n",
      "Epoch 2/5\n",
      "5885545/5885545 [==============================] - 3260s 554us/sample - loss: 0.2354 - acc: 0.9173 - mean_absolute_error: 0.1317 - val_loss: 0.2981 - val_acc: 0.8948 - val_mean_absolute_error: 0.1605\n",
      "Epoch 3/5\n",
      "5885545/5885545 [==============================] - 3259s 554us/sample - loss: 0.2111 - acc: 0.9257 - mean_absolute_error: 0.1166 - val_loss: 0.3157 - val_acc: 0.8878 - val_mean_absolute_error: 0.1609\n",
      "Epoch 4/5\n",
      "5885545/5885545 [==============================] - 3313s 563us/sample - loss: 0.1851 - acc: 0.9334 - mean_absolute_error: 0.1020 - val_loss: 0.3266 - val_acc: 0.8841 - val_mean_absolute_error: 0.1638\n",
      "Epoch 5/5\n",
      "5885545/5885545 [==============================] - 3303s 561us/sample - loss: 0.1603 - acc: 0.9420 - mean_absolute_error: 0.0883 - val_loss: 0.3458 - val_acc: 0.8790 - val_mean_absolute_error: 0.1725\n"
     ]
    }
   ],
   "source": [
    "import tensorflow as tf\n",
    "from tensorflow.keras import layers, models\n",
    "\n",
    "# Model parametreleri\n",
    "n_users, n_games = sparse_matrix.shape\n",
    "embedding_dim = 20  # Embedding boyutu\n",
    "\n",
    "# Kullanıcı ve oyun embedding katmanları\n",
    "user_input = layers.Input(shape=(1,))\n",
    "user_embedding = layers.Embedding(input_dim=n_users, output_dim=embedding_dim)(user_input)\n",
    "user_vec = layers.Flatten()(user_embedding)\n",
    "\n",
    "game_input = layers.Input(shape=(1,))\n",
    "game_embedding = layers.Embedding(input_dim=n_games, output_dim=embedding_dim)(game_input)\n",
    "game_vec = layers.Flatten()(game_embedding)\n",
    "\n",
    "# Kullanıcı ve oyun vektörlerini birleştir\n",
    "concat = layers.Concatenate()([user_vec, game_vec])\n",
    "dense = layers.Dense(128, activation='relu')(concat)\n",
    "output = layers.Dense(1, activation='sigmoid')(dense)  # Sigmoid aktivasyon, is_recommended için daha uygundur\n",
    "\n",
    "# Modeli oluştur\n",
    "model = models.Model(inputs=[user_input, game_input], outputs=output)\n",
    "model.compile(optimizer='adam', loss='binary_crossentropy', metrics=['accuracy', 'mae'])\n",
    "\n",
    "# Modeli eğit\n",
    "history = model.fit(\n",
    "    [X_train_user, X_train_game], y_train,\n",
    "    validation_data=([X_test_user, X_test_game], y_test),\n",
    "    epochs=5,\n",
    "    batch_size=256\n",
    ")"
   ]
  },
  {
   "cell_type": "code",
   "execution_count": 68,
   "id": "49d37245-bc3a-43fd-9864-fbcbeb431489",
   "metadata": {},
   "outputs": [
    {
     "name": "stdout",
     "output_type": "stream",
     "text": [
      "1471387/1471387 [==============================] - 9s 6us/sample - loss: 0.3458 - acc: 0.8790 - mean_absolute_error: 0.1725\n",
      "Test Loss: 0.3458\n",
      "Test Accuracy: 0.8790\n",
      "Test MAE: 0.1725\n"
     ]
    }
   ],
   "source": [
    "# Test seti üzerinde modelin performansını değerlendir\n",
    "loss, accuracy, mae = model.evaluate([X_test_user, X_test_game], y_test, verbose=1)\n",
    "\n",
    "print(f\"Test Loss: {loss:.4f}\")\n",
    "print(f\"Test Accuracy: {accuracy:.4f}\")\n",
    "print(f\"Test MAE: {mae:.4f}\")"
   ]
  },
  {
   "cell_type": "code",
   "execution_count": 70,
   "id": "fd8e7ce5-0181-4274-ad71-52b194259dc6",
   "metadata": {},
   "outputs": [
    {
     "data": {
      "image/png": "[encoded data removed]",
      "text/plain": [
       "<Figure size 1000x600 with 1 Axes>"
      ]
     },
     "metadata": {},
     "output_type": "display_data"
    }
   ],
   "source": [
    "plt.figure(figsize=(10, 6))\n",
    "plt.plot(history.history['acc'], label='Eğitim Accuracy')\n",
    "plt.plot(history.history['val_acc'], label='Doğrulama Accuracy')\n",
    "plt.title('Eğitim ve Doğrulama Accuracy')\n",
    "plt.xlabel('Epoch')\n",
    "plt.ylabel('Accuracy')\n",
    "plt.legend()\n",
    "plt.grid(True)\n",
    "plt.show()"
   ]
  },
  {
   "cell_type": "code",
   "execution_count": 72,
   "id": "cfe6ccaa-79aa-4e1e-a352-96d2616e4db6",
   "metadata": {},
   "outputs": [
    {
     "data": {
      "image/png": "[encoded data removed]",
      "text/plain": [
       "<Figure size 1000x600 with 1 Axes>"
      ]
     },
     "metadata": {},
     "output_type": "display_data"
    }
   ],
   "source": [
    "plt.figure(figsize=(10, 6))\n",
    "plt.plot(history.history['mean_absolute_error'], label='Eğitim MAE')\n",
    "plt.plot(history.history['val_mean_absolute_error'], label='Doğrulama MAE')\n",
    "plt.title('Eğitim ve Doğrulama MAE')\n",
    "plt.xlabel('Epoch')\n",
    "plt.ylabel('MAE')\n",
    "plt.legend()\n",
    "plt.grid(True)\n",
    "plt.show()"
   ]
  },
  {
   "cell_type": "code",
   "execution_count": 128,
   "id": "632e2f9c-93d4-4f50-a079-5d3d4fd624e9",
   "metadata": {},
   "outputs": [
    {
     "name": "stdout",
     "output_type": "stream",
     "text": [
      "Rastgele Kullanıcılara Önerilen Oyunlar:\n",
      "Kullanıcı 422680: Önerilen Oyunlar: [5548 5460 5629]\n",
      "Kullanıcı 1473038: Önerilen Oyunlar: [5664 5404 2767]\n",
      "Kullanıcı 1320301: Önerilen Oyunlar: [5056 3865 5041]\n",
      "Kullanıcı 225720: Önerilen Oyunlar: [5588 4844 5532]\n",
      "Kullanıcı 1048021: Önerilen Oyunlar: [4844 5985 4497]\n"
     ]
    }
   ],
   "source": [
    "# Kullanıcıların ve oyunların listeleri\n",
    "unique_users = np.unique(X[:, 0])  # Tüm kullanıcı ID'leri\n",
    "unique_games = np.unique(X[:, 1])  # Tüm oyun ID'leri\n",
    "\n",
    "# Rastgele 5 kullanıcı seç\n",
    "random_users = np.random.choice(unique_users, size=5, replace=False)\n",
    "\n",
    "# Kullanıcının daha önce oynadığı oyunları hariç tutarak öneri yap\n",
    "recommendations = {}\n",
    "\n",
    "for user in random_users:\n",
    "    # Kullanıcının daha önce oynadığı oyunları al\n",
    "    played_games = merged_dataset[merged_dataset['user_id'] == user]['app_id'].unique()\n",
    "    candidate_games = np.setdiff1d(unique_games, played_games)  # Oynanmamış oyunları bul\n",
    "    \n",
    "    # Kullanıcının tüm oynanmamış oyunlar için tahminini hesapla\n",
    "    user_array = np.array([user] * len(candidate_games))  # Kullanıcı ID'sini tekrarla\n",
    "    game_array = candidate_games  # Oynanmamış oyunlar\n",
    "    \n",
    "    # Model tahminleri ve noise ekleme\n",
    "    predictions = model.predict([user_array, game_array], verbose=0).flatten()\n",
    "    predictions += np.random.normal(0, 0.01, size=len(predictions))  # Noise ekleyerek çeşitlendirme\n",
    "    \n",
    "    # En yüksek 3 tahmini bul\n",
    "    top_3_indices = predictions.argsort()[-3:][::-1]  # En yüksek 3 skor\n",
    "    top_3_games = candidate_games[top_3_indices]  # Oyun ID'leri\n",
    "    \n",
    "    # Kullanıcı ve önerilen oyunları sakla\n",
    "    recommendations[user] = top_3_games\n",
    "\n",
    "# Öneri sonuçlarını yazdır\n",
    "print(\"Rastgele Kullanıcılara Önerilen Oyunlar:\")\n",
    "for user, games in recommendations.items():\n",
    "    print(f\"Kullanıcı {user}: Önerilen Oyunlar: {games}\")"
   ]
  },
  {
   "cell_type": "code",
   "execution_count": null,
   "id": "3a37fab8-d72c-4b1a-99d0-996b7a44a95d",
   "metadata": {},
   "outputs": [],
   "source": []
  }
 ],
 "metadata": {
  "kernelspec": {
   "display_name": "Python [conda env:testv]",
   "language": "python",
   "name": "conda-env-testv-py"
  },
  "language_info": {
   "codemirror_mode": {
    "name": "ipython",
    "version": 3
   },
   "file_extension": ".py",
   "mimetype": "text/x-python",
   "name": "python",
   "nbconvert_exporter": "python",
   "pygments_lexer": "ipython3",
   "version": "3.7.12"
  }
 },
 "nbformat": 4,
 "nbformat_minor": 5
}
